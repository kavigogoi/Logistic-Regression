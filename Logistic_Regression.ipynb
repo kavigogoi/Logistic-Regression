{
  "nbformat": 4,
  "nbformat_minor": 0,
  "metadata": {
    "colab": {
      "provenance": []
    },
    "kernelspec": {
      "name": "python3",
      "display_name": "Python 3"
    },
    "language_info": {
      "name": "python"
    }
  },
  "cells": [
    {
      "cell_type": "markdown",
      "source": [
        "      *** ASSIGNMENT ON LOGISTIC REGRESSION ***\n",
        "      *** THEORETICAL QUESTIONS AND ANSWERS ***"
      ],
      "metadata": {
        "id": "uI6KVA5FlDof"
      }
    },
    {
      "cell_type": "markdown",
      "source": [
        "Ques 1. What is Logistic Regression, and how does it differ from Linear Regression?\n",
        "\n",
        "Ans 1. Logistic Regression is a statistical model used for binary classification tasks, predicting the probability that an instance belongs to a particular class. It uses a sigmoid function to map any real value to a probability between 0 and 1.\n",
        "\n",
        "Here's how it differs from Linear Regression:\n",
        "\n",
        "Target Variable: Linear Regression predicts a continuous outcome, while Logistic Regression predicts a categorical outcome (usually binary, but can be extended to multiclass).\n",
        "Output: Linear Regression directly outputs a continuous value. Logistic Regression outputs a probability, which is then typically converted into a class prediction based on a threshold (e.g., if probability > 0.5, predict class 1).\n",
        "Underlying Function: Linear Regression uses a linear function (y = mx + b) to model the relationship between features and the target. Logistic Regression uses the sigmoid function applied to a linear combination of features to model the probability of the target class.\n",
        "Loss Function: Linear Regression commonly uses Mean Squared Error (MSE). Logistic Regression uses a loss function like Cross-Entropy or Log Loss, which is suitable for probability estimation.\n"
      ],
      "metadata": {
        "id": "tpkn97dAlQc0"
      }
    },
    {
      "cell_type": "markdown",
      "source": [
        "Ques 2. What is the mathematical equation of Logistic Regression?\n",
        "\n",
        "Ans 2. The mathematical equation of Logistic Regression relates the probability of an instance belonging to a particular class to a linear combination of its features.\n",
        "\n",
        "There are a couple of common ways to express this equation:\n",
        "\n",
        "In terms of Probability:\n",
        "\n",
        "$$ P(y=1 | \\mathbf{x}) = \\frac{1}{1 + e^{-(\\beta_0 + \\beta_1 x_1 + \\beta_2 x_2 + ... + \\beta_k x_k)}} $$\n",
        "\n",
        "Here:\n",
        "\n",
        "$P(y=1 | \\mathbf{x})$ is the probability that the target variable $y$ is 1 (the positive class) given the feature vector $\\mathbf{x}$.\n",
        "$e$ is the base of the natural logarithm.\n",
        "$\\beta_0$ is the intercept (bias).\n",
        "$\\beta_1, \\beta_2, ..., \\beta_k$ are the coefficients (weights) for each feature $x_1, x_2, ..., x_k$.\n",
        "The expression $\\beta_0 + \\beta_1 x_1 + \\beta_2 x_2 + ... + \\beta_k x_k$ is the linear combination of the features, often denoted as $z$.\n",
        "This equation uses the sigmoid function (also known as the logistic function) to map the linear combination of features to a probability between 0 and 1.\n",
        "\n",
        "In terms of Log-Odds (Logit):\n",
        "\n",
        "The equation can also be expressed in terms of the log-odds (or logit) of the probability. The odds of an event is the ratio of the probability that the event will occur to the probability that it will not occur: Odds $= \\frac{P(y=1 | \\mathbf{x})}{P(y=0 | \\mathbf{x})} = \\frac{P(y=1 | \\mathbf{x})}{1 - P(y=1 | \\mathbf{x})}$.\n",
        "\n",
        "The log-odds (logit) is the natural logarithm of the odds:\n",
        "\n",
        "$$ \\text{logit}(P(y=1 | \\mathbf{x})) = \\log\\left(\\frac{P(y=1 | \\mathbf{x})}{1 - P(y=1 | \\mathbf{x})}\\right) = \\beta_0 + \\beta_1 x_1 + \\beta_2 x_2 + ... + \\beta_k x_k $$\n",
        "\n",
        "This form shows that the log-odds of the probability is a linear combination of the features. This is why it's called \"Logistic Regression\" – it's essentially performing a linear regression on the log-odds of the target variable."
      ],
      "metadata": {
        "id": "L00xC_Enz4ZC"
      }
    },
    {
      "cell_type": "markdown",
      "source": [
        "Ques 3. Why do we use the Sigmoid function in Logistic Regression?\n",
        "\n",
        "Ans 3. We use the Sigmoid function in Logistic Regression for the following reasons:\n",
        "\n",
        "Probability Output: The sigmoid function maps any real-valued input to an output between 0 and 1. This is crucial because the goal of logistic regression is to predict the probability of an instance belonging to a particular class. The output of the sigmoid function can be directly interpreted as this probability.\n",
        "\n",
        "Non-linearity: While the core of logistic regression involves a linear combination of features ($\\beta_0 + \\beta_1 x_1 + ... + \\beta_k x_k$$\\beta_0 + \\beta_1 x_1 + ... + \\beta_k x_k$), the sigmoid function introduces non-linearity. This allows the model to capture non-linear relationships between the features and the probability of the outcome.\n",
        "\n",
        "Smooth Gradient: The sigmoid function has a smooth, differentiable curve. This is important for the optimization algorithms (like gradient descent) used to train the logistic regression model. The smooth gradient allows the optimization process to effectively find the best model parameters (coefficients).\n",
        "\n",
        "Interpretation: The sigmoid function's S-shape is intuitive for modeling probabilities. As the linear combination of features increases, the probability approaches 1, and as it decreases, the probability approaches 0. There is a clear threshold (typically 0.5) where the model transitions from predicting one class to the other.\n",
        "\n",
        "In essence, the sigmoid function acts as a link function that transforms the linear output of the model into a probability, making Logistic Regression suitable for binary classification tasks."
      ],
      "metadata": {
        "id": "6HjghhQe0YmZ"
      }
    },
    {
      "cell_type": "markdown",
      "source": [
        "Ques 4. What is the cost function of Logistic Regression?\n",
        "\n",
        "Ans 4. In logistic regression, the cost function, often called the log loss or cross-entropy loss, measures how well the model's predictions match the actual outcomes. It's calculated by averaging the loss over all training examples.\n",
        "\n",
        "Here's a more detailed explanation:\n",
        "\n",
        "Loss Function (Individual Data Point):\n",
        "For a single data point, the loss function calculates the error between the model's predicted probability and the actual outcome (0 or 1).\n",
        "\n",
        "Cost Function (Overall Model Performance):\n",
        "The cost function takes the average of the loss function across all the training examples in your dataset. This provides a single value that represents the overall error of your model.\n",
        "\n",
        "Mathematical Representation:\n",
        "The cost function (J) for logistic regression is typically represented as:\n",
        "J(w, b) = (1/m) * Σ ( -y(i) * log(hθ(x(i))) - (1 - y(i)) * log(1 - hθ(x(i))) )\n",
        "\n",
        "Where:\n",
        "\n",
        "m = the number of training examples\n",
        "y(i) = the actual outcome (0 or 1) for the i-th training example\n",
        "hθ(x(i)) = the model's predicted probability (between 0 and 1) for the i-th training example, given by the sigmoid function\n",
        "w = the model's parameters (weights)\n",
        "b = the model's bias\n",
        "\n",
        "Why Log Loss?\n",
        "\n",
        "Non-convex:\n",
        "The log loss function is a suitable choice because it's convex, which means it has a single minimum. This is important for optimization algorithms like gradient descent, which can get stuck in local minima with non-convex functions.\n",
        "\n",
        "Good for Classification:\n",
        "The log loss function is well-suited for classification problems, as it provides a probability estimate for each class, allowing for more accurate predictions.\n",
        "\n",
        "Maximizes Likelihood:\n",
        "Minimizing the log loss is equivalent to maximizing the likelihood of observing the data given the model parameters, which is a common goal in statistical modeling.\n",
        "\n",
        "In Summary:\n",
        "The cost function in logistic regression is the average log loss across the training dataset. It's used to evaluate the model's performance and guide the optimization process (e.g., using gradient descent) to find the best parameters that minimize the cost function.\n"
      ],
      "metadata": {
        "id": "skQSC8540ia8"
      }
    },
    {
      "cell_type": "markdown",
      "source": [
        "Ques 5. What is Regularization in Logistic Regression? Why is it needed?\n",
        "\n",
        "Ans 5. Regularization in Logistic Regression is a technique used to prevent overfitting by adding a penalty term to the cost function. This penalty discourages the model from assigning excessively large weights (coefficients) to the features.\n",
        "\n",
        "Why is it needed?\n",
        "\n",
        "Logistic Regression models can sometimes overfit the training data, especially when dealing with a large number of features or complex relationships. Overfitting occurs when the model learns the training data too well, including the noise and random fluctuations, which leads to poor performance on unseen data.\n",
        "\n",
        "Regularization helps to address overfitting by:\n",
        "\n",
        "Shrinking Coefficients: The penalty term in the cost function encourages the model's coefficients to be smaller. This makes the model simpler and less sensitive to small variations in the training data.\n",
        "Reducing Model Complexity: By limiting the size of the coefficients, regularization effectively reduces the complexity of the model, making it less prone to overfitting.\n",
        "Improving Generalization: A regularized model is less likely to be overly tailored to the training data, which means it will generalize better to new, unseen data.\n",
        "Types of Regularization in Logistic Regression:\n",
        "\n",
        "There are two common types of regularization used in Logistic Regression:\n",
        "\n",
        "L1 Regularization (Lasso): This adds a penalty proportional to the absolute value of the coefficients to the cost function. L1 regularization can lead to sparse models, where some coefficients are driven exactly to zero. This is useful for feature selection.\n",
        "L2 Regularization (Ridge): This adds a penalty proportional to the square of the coefficients to the cost function. L2 regularization shrinks the coefficients towards zero but does not force them to be exactly zero. It generally provides better performance when all features are relevant.\n",
        "The strength of the regularization is controlled by a hyperparameter (often denoted as C in scikit-learn, which is the inverse of the regularization strength, or lambda). A smaller C (larger lambda) means stronger regularization."
      ],
      "metadata": {
        "id": "jsU_kYlM1E22"
      }
    },
    {
      "cell_type": "markdown",
      "source": [
        "Ques 6. Explain the difference between Lasso, Ridge, and Elastic Net regression?\n",
        "\n",
        "Ans 6. Lasso, Ridge, and Elastic Net are all types of regularized linear models, commonly used in regression tasks, but the concepts also apply to Logistic Regression as a way to regularize the coefficients. They differ in the type of penalty they add to the cost function to prevent overfitting.\n",
        "\n",
        "Here's a breakdown of the differences:\n",
        "\n",
        "Ridge Regression (L2 Regularization):\n",
        "\n",
        "Penalty: Adds a penalty proportional to the sum of the squared values of the coefficients ($\\sum_{j=1}^{k} \\beta_j^2$).\n",
        "Effect: Shrinks the coefficients towards zero but does not force them to be exactly zero. All features are generally retained in the model, but their impact is reduced.\n",
        "Use Case: Effective when you have many features that are all potentially relevant, and you want to reduce their overall impact to prevent overfitting. It can help with multicollinearity (high correlation between features).\n",
        "Lasso Regression (L1 Regularization):\n",
        "\n",
        "Penalty: Adds a penalty proportional to the sum of the absolute values of the coefficients ($\\sum_{j=1}^{k} |\\beta_j|$).\n",
        "Effect: Shrinks the coefficients towards zero and can force some coefficients to be exactly zero. This leads to a sparse model, effectively performing feature selection by eliminating the impact of less important features.\n",
        "Use Case: Useful when you suspect that only a subset of your features are truly relevant, and you want to automatically select the most important ones. It can be beneficial for high-dimensional datasets.\n",
        "Elastic Net Regression:\n",
        "\n",
        "Penalty: Adds a penalty that is a combination of both L1 and L2 penalties. It is controlled by two hyperparameters: one for the overall strength of the regularization (like in Ridge and Lasso) and one to balance the mix between L1 and L2.\n",
        "Effect: Combines the properties of both Ridge and Lasso. It can shrink coefficients (like Ridge) and also perform feature selection by setting some coefficients to zero (like Lasso). It is particularly useful when you have groups of highly correlated features. Lasso might arbitrarily pick one from the group, while Elastic Net tends to select all features within the group.\n",
        "Use Case: A good option when you have many features and some of them are highly correlated. It can provide a better balance between shrinking coefficients and feature selection than using L1 or L2 alone.\n",
        "In summary:\n",
        "\n",
        "Ridge: Shrinks coefficients, keeps all features, good for multicollinearity.\n",
        "Lasso: Shrinks coefficients, can set some to zero (feature selection), good for sparse models.\n",
        "Elastic Net: Combination of Ridge and Lasso, good for correlated features, can do both shrinkage and feature selection.\n",
        "The choice between them often depends on the characteristics of your data and your modeling goals (e.g., prioritizing feature selection vs. simply reducing coefficient magnitudes)."
      ],
      "metadata": {
        "id": "ndyD7Tau1qih"
      }
    },
    {
      "cell_type": "markdown",
      "source": [
        "Ques 7. When should we use Elastic Net instead of Lasso or Ridge?\n",
        "\n",
        "Ans 7. We should consider using Elastic Net instead of Lasso or Ridge in the following situations:\n",
        "\n",
        "When you have many features and some of them are highly correlated: This is one of the key scenarios where Elastic Net excels. Lasso tends to arbitrarily pick one feature from a group of highly correlated features and ignore the others. Ridge shrinks all correlated features equally. Elastic Net, by combining L1 and L2 penalties, tends to select all features within a correlated group. This can lead to better model performance and interpretability when dealing with multicollinearity.\n",
        "\n",
        "When you suspect that only a subset of features are truly relevant, but you also have groups of correlated features: If you want the feature selection capability of Lasso (driving some coefficients to zero) but also want to handle correlated features more gracefully than Lasso does, Elastic Net is a good compromise.\n",
        "\n",
        "When you are unsure whether L1 or L2 regularization is more appropriate: Elastic Net allows you to tune the balance between L1 and L2 penalties using the l1_ratio hyperparameter. If l1_ratio is 1, it's equivalent to Lasso; if it's 0, it's equivalent to Ridge. This makes Elastic Net a more flexible option that can adapt to different data characteristics.\n",
        "\n",
        "When you want a more stable solution than Lasso when features are highly correlated: Due to its tendency to select only one feature from a correlated group, Lasso's performance can be unstable if you have highly correlated features and rerun the analysis on slightly different data or splits. Elastic Net's L2 component helps to stabilize the solution in such cases.\n",
        "\n",
        "In summary, Elastic Net is a powerful regularized regression method that combines the benefits of Lasso and Ridge. It's particularly useful when dealing with datasets that have both many features and significant correlations among them, providing a balance between feature selection and coefficient shrinkage."
      ],
      "metadata": {
        "id": "aZsnHEeS157O"
      }
    },
    {
      "cell_type": "markdown",
      "source": [
        "Ques 8. What is the impact of the regularization parameter (λ) in Logistic Regression?\n",
        "\n",
        "Ans 8. The regularization parameter, often denoted as $\\lambda$$\\lambda$ (lambda) or represented by C in libraries like scikit-learn (where C is the inverse of $\\lambda$$\\lambda$), controls the strength of the regularization applied in Logistic Regression. It has a significant impact on the model's complexity and its tendency to overfit or underfit the data.\n",
        "\n",
        "Here's the impact of the regularization parameter:\n",
        "\n",
        "Controls the Penalty Strength:\n",
        "\n",
        "Larger $\\lambda$ (or smaller C): A larger $\\lambda$ means a stronger penalty is added to the cost function. This forces the model to have smaller coefficients. In the case of L1 regularization, it can even drive some coefficients exactly to zero, performing feature selection.\n",
        "Smaller $\\lambda$ (or larger C): A smaller $\\lambda$ means a weaker penalty. The model is less constrained, and coefficients can become larger. With a very small $\\lambda$ (or very large C), the model approaches standard Logistic Regression without regularization.\n",
        "Impact on Coefficient Magnitudes:\n",
        "\n",
        "As $\\lambda$ increases, the magnitudes of the coefficients decrease. This is the core mechanism of regularization – it shrinks the coefficients towards zero.\n",
        "Impact on Model Complexity:\n",
        "\n",
        "Larger $\\lambda$ leads to a simpler model with smaller coefficients. This reduces the model's capacity to fit the noise in the training data, thereby reducing the risk of overfitting.\n",
        "Smaller $\\lambda$ leads to a more complex model with larger coefficients. This allows the model to fit the training data more closely, but it increases the risk of overfitting, especially on noisy or limited data.\n",
        "Impact on Bias-Variance Trade-off:\n",
        "\n",
        "Regularization is a technique used to manage the bias-variance trade-off.\n",
        "Larger $\\lambda$ increases the bias of the model (it might not fit the training data as well) but decreases the variance (it becomes less sensitive to the specific training set and generalizes better to unseen data). This helps to reduce overfitting.\n",
        "Smaller $\\lambda$ decreases the bias (fits the training data more closely) but increases the variance (becomes more sensitive to the training set). This increases the risk of overfitting.\n",
        "Impact on Feature Selection (L1 Regularization):\n",
        "\n",
        "With L1 regularization, increasing $\\lambda$ will cause more coefficients to be driven exactly to zero. This effectively performs feature selection, as features with zero coefficients are excluded from the model.\n",
        "Choosing the right value for the regularization parameter ($\\lambda$$\\lambda$ or C) is crucial and is typically done through hyperparameter tuning techniques like cross-validation. The goal is to find a value that provides a good balance between fitting the training data and generalizing well to unseen data."
      ],
      "metadata": {
        "id": "e1rTiJVd2UOT"
      }
    },
    {
      "cell_type": "markdown",
      "source": [
        "Ques 9. What are the key assumptions of Logistic Regression?\n",
        "\n",
        "Ans 9. Logistic regression relies on several key assumptions for accurate and reliable results. These include the independence of observations, linearity of the log-odds, absence of multicollinearity, and a sufficiently large sample size. Additionally, the outcome variable must be categorical, and outliers should be addressed.\n",
        "\n",
        "Here's a more detailed breakdown:\n",
        "\n",
        "Independence of Observations:\n",
        "Each data point should be independent of the others. This means the outcome for one observation should not be influenced by the outcome of any other observation.\n",
        "\n",
        "Linearity of the Logit (Log-Odds):\n",
        "While logistic regression doesn't require a linear relationship between the independent variables and the dependent variable, it does assume a linear relationship between the independent variables and the log-odds of the dependent variable.\n",
        "\n",
        "Absence of Multicollinearity:\n",
        "High correlation between independent variables can make it difficult to determine the individual impact of each variable on the outcome. It's crucial to minimize multicollinearity in the dataset.\n",
        "\n",
        "Sufficiently Large Sample Size:\n",
        "A large enough sample size is needed to ensure stable and reliable coefficient estimates. A general guideline is to have at least 50 observations per predictor variable, according to Data-Mania.\n",
        "\n",
        "Binary Outcome Variable (for Binary Logistic Regression):\n",
        "If using binary logistic regression, the dependent variable should have only two possible outcomes.\n",
        "\n",
        "Absence of Strongly Influential Outliers:\n",
        "Outliers can significantly impact the model's results. Identifying and addressing outliers is important for robust analysis"
      ],
      "metadata": {
        "id": "UcS22TRD2ih8"
      }
    },
    {
      "cell_type": "markdown",
      "source": [
        "Ques 10. What are some alternatives to Logistic Regression for classification tasks?\n",
        "\n",
        "Ans 10. Several alternative methods can be used for classification tasks instead of logistic regression. These include Support Vector Machines (SVM), Decision Trees, Random Forests, and Neural Networks. Additionally, ensemble methods like boosting and bagging can also be used to improve classification performance.\n",
        "\n",
        "Here's a more detailed look at some of these alternatives:\n",
        "\n",
        "1. Support Vector Machines (SVM):\n",
        "SVMs are powerful classifiers that work by finding the optimal hyperplane to separate data points into different classes.\n",
        "They are particularly effective when dealing with high-dimensional data or when the classes are well-separated.\n",
        "SVMs can be used for both linear and non-linear classification problems by using different kernel functions.\n",
        "A variation of SVM, called Support Vector Regression (SVR), is used for regression tasks.\n",
        "\n",
        "2. Decision Trees:\n",
        "Decision trees are tree-like structures that recursively partition the data space based on feature values.\n",
        "They are relatively easy to interpret and can handle both numerical and categorical data.\n",
        "Decision trees can be prone to overfitting, but this can be mitigated by techniques like pruning or using ensemble methods.\n",
        "\n",
        "3. Random Forests:\n",
        "Random forests are ensemble methods that combine multiple decision trees to improve classification accuracy and reduce overfitting.\n",
        "They are known for their robustness and ability to handle complex relationships between features.\n",
        "Random forests are widely used in various classification tasks and often achieve high accuracy.\n",
        "\n",
        "4. Neural Networks:\n",
        "Neural networks, especially deep learning models, are capable of learning complex patterns in data.\n",
        "They can be used for both binary and multi-class classification problems.\n",
        "Neural networks require large amounts of data and computational resources for training.\n",
        "\n",
        "5. Ensemble Methods:\n",
        "Ensemble methods combine multiple individual models to improve overall performance.\n",
        "Boosting and bagging are popular ensemble techniques that can be used with various base classifiers, including decision trees.\n",
        "Ensemble methods often lead to more accurate and robust classification results.\n",
        "\n",
        "6. Other Alternatives:\n",
        "\n",
        "k-Nearest Neighbors (k-NN):\n",
        "A simple non-parametric method that classifies data points based on the majority class among their k nearest neighbors.\n",
        "\n",
        "Naive Bayes:\n",
        "A probabilistic classifier based on Bayes' theorem, assuming independence between features.\n",
        "\n",
        "Linear Discriminant Analysis (LDA):\n",
        "A dimensionality reduction technique that can also be used for classification.\n",
        "\n",
        "Probit Regression:\n",
        "Similar to logistic regression, but uses the probit function instead of the sigmoid function.\n",
        "\n",
        "Log-binomial and Poisson Regression:\n",
        "Alternative models for analyzing binary outcomes, particularly in cross-sectional studies.\n"
      ],
      "metadata": {
        "id": "grZf1Ul83Ch7"
      }
    },
    {
      "cell_type": "markdown",
      "source": [
        "Ques 11. What are Classification Evaluation Metrics?\n",
        "\n",
        "Ans 11. Common classification evaluation metrics include accuracy, precision, recall, F1-score, AUC-ROC, and the confusion matrix. These metrics help assess how well a classification model distinguishes between different classes.\n",
        "\n",
        "Here's a breakdown of some key metrics:\n",
        "\n",
        "Accuracy:\n",
        "The proportion of correctly classified instances out of the total instances. It's a good general measure, but can be misleading with imbalanced datasets (where one class has significantly more instances than others).\n",
        "\n",
        "Precision:\n",
        "Out of all instances predicted as positive, what proportion is actually positive? High precision indicates fewer false positives.\n",
        "\n",
        "Recall (also known as Sensitivity):\n",
        "Out of all actual positive instances, what proportion did the model correctly identify? High recall indicates fewer false negatives.\n",
        "\n",
        "F1-Score:\n",
        "The harmonic mean of precision and recall. It provides a balanced measure that considers both false positives and false negatives, especially useful when there's an imbalance between classes.\n",
        "\n",
        "AUC-ROC:\n",
        "The area under the Receiver Operating Characteristic curve. It measures the model's ability to distinguish between classes at various threshold settings, particularly useful for binary classification problems.\n",
        "\n",
        "Confusion Matrix:\n",
        "A table that summarizes the performance of a classification model by showing the counts of true positives, true negatives, false positives, and false negatives.\n"
      ],
      "metadata": {
        "id": "xGApb0Rf3cUU"
      }
    },
    {
      "cell_type": "markdown",
      "source": [
        "Ques 12. How does class imbalance affect Logistic Regression?\n",
        "\n",
        "Ans 12. Class imbalance, where one class has significantly more instances than others, can negatively impact logistic regression by causing the model to be biased towards the majority class, leading to poor performance on the minority class. This bias arises because logistic regression aims to optimize overall accuracy, which is easily achieved by favoring the majority class.\n",
        "\n",
        "Here's a more detailed explanation:\n",
        "\n",
        "Bias towards the majority class:\n",
        "Logistic regression, in its standard form, aims to maximize overall accuracy, which can be misleading in imbalanced datasets. Because the majority class dominates the training data, the model can achieve high accuracy simply by predicting the majority class for most, if not all, instances.\n",
        "\n",
        "Poor minority class prediction:\n",
        "This bias results in the model misclassifying a large portion of the minority class, as it doesn't learn enough about its characteristics. Rare events or minority classes might be completely ignored or misclassified, leading to significant errors in practical applications.\n",
        "\n",
        "Impact on model evaluation:\n",
        "Traditional metrics like accuracy can be misleading in imbalanced scenarios. A model with high accuracy might still be poor at predicting the minority class, making it crucial to use metrics like precision, recall, F1-score, and AUC-ROC, which are more sensitive to class imbalance.\n",
        "\n",
        "Example:\n",
        "In fraud detection, where fraudulent transactions are rare, a logistic regression model trained on an imbalanced dataset might have high accuracy by correctly classifying the majority of legitimate transactions, but it would likely misclassify a large proportion of fraudulent transactions.\n",
        "\n",
        "Addressing class imbalance:\n",
        "Several techniques can be employed to mitigate the effects of class imbalance, such as resampling methods (oversampling the minority class or undersampling the majority class), using different evaluation metrics, or adjusting the model's cost function to penalize misclassification of the minority class more heavily."
      ],
      "metadata": {
        "id": "PXArBNvc3re_"
      }
    },
    {
      "cell_type": "markdown",
      "source": [
        "Ques 13. What is Hyperparameter Tuning in Logistic Regression?\n",
        "\n",
        "Ans 13. Hyperparameter tuning in logistic regression is the process of finding the optimal values for the settings (hyperparameters) that control the learning process before training the model. These hyperparameters influence the model's performance, complexity, and learning speed. By tuning these, you can improve the model's ability to generalize and make accurate predictions on new, unseen data.\n",
        "\n",
        " Essential Hyperparameter Tuning Techniques to Know\n",
        "\n",
        "Here's a more detailed explanation:\n",
        "\n",
        "What are Hyperparameters?\n",
        "Hyperparameters are not learned by the model during training, unlike the model's internal parameters (coefficients). Instead, they are set before training begins and define how the learning algorithm behaves.\n",
        "\n",
        "Why Tune Hyperparameters?\n",
        "Improved Model Performance:\n",
        "Tuning can lead to better accuracy, precision, recall, and other relevant metrics for your specific task.\n",
        "\n",
        "Reduced Overfitting/Underfitting:\n",
        "Proper hyperparameter tuning can help prevent the model from being too complex (overfitting) or too simple (underfitting).\n",
        "\n",
        "Enhanced Generalization:\n",
        "A well-tuned model will generalize better to new, unseen data, meaning it will make more accurate predictions on data it hasn't been trained on.\n",
        "\n",
        "Common Hyperparameters in Logistic Regression:\n",
        "\n",
        "C (Regularization Strength):\n",
        "Controls the trade-off between achieving a low error on the training data and keeping the model simple to prevent overfitting. Higher values of C (or lower regularization) mean the model will fit the training data more closely, potentially leading to overfitting.\n",
        "\n",
        "solver:\n",
        "Determines the algorithm used to optimize the model's parameters. Options include 'liblinear', 'lbfgs', 'newton-cg', 'sag', and 'saga'. Each solver has different strengths and weaknesses, and the best choice depends on the dataset.\n",
        "\n",
        "max_iter:\n",
        "Specifies the maximum number of iterations the solver is allowed to run. If the solver doesn't converge within this limit, it will stop and return the best result found so far.\n",
        "\n",
        "penalty:\n",
        "Specifies the type of regularization to use (e.g., L1, L2, or None).\n",
        "\n",
        "tol:\n",
        "Sets the tolerance for the optimization process, determining when the algorithm stops.\n",
        "\n",
        "Hyperparameter Tuning Techniques:\n",
        "\n",
        "Grid Search:\n",
        "Systematically tries all possible combinations of hyperparameters within a specified range.\n",
        "\n",
        "Random Search:\n",
        "Randomly samples hyperparameter combinations.\n",
        "\n",
        "Bayesian Optimization:\n",
        "Uses a probabilistic model to guide the search for optimal hyperparameters, learning from previous evaluations.\n",
        "\n",
        "Cross-validation:\n",
        "A technique used to evaluate the model's performance with different hyperparameter settings, helping to prevent overfitting.\n",
        "\n",
        "By carefully choosing the appropriate hyperparameters, you can significantly improve the performance and reliability of your logistic regression model."
      ],
      "metadata": {
        "id": "huv7m5Jj4Aav"
      }
    },
    {
      "cell_type": "markdown",
      "source": [
        "Ques 14. What are different solvers in Logistic Regression? Which one should be used?\n",
        "\n",
        "Ans 14. In Logistic Regression, different solvers are optimization algorithms used to find the best model parameters. The choice of solver depends on the size and characteristics of your dataset, as well as the specific requirements of your problem.\n",
        "Here's a breakdown of some common solvers and when to use them:\n",
        "\n",
        "liblinear:\n",
        "This solver is efficient for small datasets, especially when the data is sparse (many features are zero). It's also a good choice for binary classification problems. It can handle L1 regularization (sparse penalties).\n",
        "\n",
        "lbfgs (Limited-memory Broyden–Fletcher–Goldfarb–Schanz):\n",
        "This solver is generally recommended for medium-sized datasets. It's considered more robust than liblinear and can work well with denser data. It's a good default choice.\n",
        "\n",
        "sag (Stochastic Average Gradient):\n",
        "This solver is designed for large datasets. It updates the parameters by considering only a random subset of the data at each iteration, making it computationally efficient. It's suitable for both dense and sparse data.\n",
        "\n",
        "saga (Stochastic Accelerated Gradient):\n",
        "Similar to SAG, but it includes an additional correction term that improves convergence. This makes it particularly effective for large datasets with high dimensionality or when using elastic net regularization.\n",
        "\n",
        "newton-cg (Newton's Method with Conjugate Gradients):\n",
        "This solver is fast for datasets where the number of samples is significantly larger than the number of features and features are one-hot encoded. However, it has high memory usage due to the computation of the full Hessian matrix.\n",
        "\n",
        "Which solver to use:\n",
        "For small datasets: Use liblinear.\n",
        "For medium-sized datasets: Use lbfgs.\n",
        "For large datasets: Use sag or saga.\n",
        "For sparse data: Use liblinear or saga.\n",
        "For multiclass classification: All solvers except liblinear can handle this, except for liblinear which can only handle binary classification.\n",
        "\n",
        "For more nuanced advice on solver selection, consider the specific characteristics of your dataset (size, sparsity, number of features, etc.) and the requirements of your application (accuracy, computational time, memory constraints). Experimenting with different solvers and comparing their performance on your validation data can help you find the optimal solution."
      ],
      "metadata": {
        "id": "iUs8wNrn4i13"
      }
    },
    {
      "cell_type": "markdown",
      "source": [
        "Ques 15. How is Logistic Regression extended for multiclass classification?\n",
        "\n",
        "Ans 15. Logistic Regression, primarily designed for binary classification, can be extended to handle multiclass problems using techniques like One-vs-Rest (OvR), One-vs-One (OvO), or Multinomial Logistic Regression (also known as Softmax Regression). These methods adapt the binary classifier to predict probabilities for multiple classes.\n",
        "\n",
        "1. One-vs-Rest (OvR) or One-vs-All (OvA):\n",
        "This strategy trains a separate binary logistic regression model for each class, where one class is treated as positive and all other classes are combined as the negative class.\n",
        "For example, if you have three classes (A, B, C), you would train three models: A vs. (B+C), B vs. (A+C), and C vs. (A+B).\n",
        "During prediction, the model that outputs the highest probability for a given input is selected as the predicted class.\n",
        "This approach is simple to implement and computationally efficient.\n",
        "\n",
        "2. One-vs-One (OvO):\n",
        "In OvO, a binary logistic regression model is trained for every pair of classes.\n",
        "With N classes, you would have N*(N-1)/2 models.\n",
        "For example, with classes A, B, and C, you would train models: A vs B, A vs C, and B vs C.\n",
        "During prediction, each model votes for one of the two classes it's comparing, and the class with the most votes wins.\n",
        "OvO can be more accurate than OvR but is computationally more expensive.\n",
        "\n",
        "3. Multinomial Logistic Regression (Softmax Regression):\n",
        "This is a direct extension of logistic regression that models the probabilities of all classes simultaneously.\n",
        "It uses the softmax function to output a probability distribution over all classes.\n",
        "\n",
        "The class with the highest probability is chosen as the prediction.\n",
        "It's more efficient than OvR or OvO for a large number of classes but can be computationally intensive.\n",
        "\n",
        "Multinomial Logistic Regression is often preferred when dealing with categorical dependent variables with more than two categories, according to Laerd Statistics.\n"
      ],
      "metadata": {
        "id": "FMpIfJib49Ay"
      }
    },
    {
      "cell_type": "markdown",
      "source": [
        "Ques 16. What are the advantages and disadvantages of Logistic Regression?\n",
        "\n",
        "Ans 16. Here are the advantages and disadvantages of Logistic Regression:\n",
        "\n",
        "Advantages:\n",
        "\n",
        "Simplicity and Interpretability: Logistic Regression is relatively simple to understand and interpret, especially compared to more complex models like neural networks. The coefficients directly indicate the impact of each feature on the log-odds of the outcome.\n",
        "\n",
        "Efficiency: Training Logistic Regression models is generally fast and computationally efficient, making it suitable for large datasets.\n",
        "\n",
        "Good Baseline Model: It often serves as a good baseline model for classification tasks. If Logistic Regression performs well, it might be sufficient, or it can be used as a benchmark to compare against more complex algorithms.\n",
        "\n",
        "Outputs Probabilities: Logistic Regression outputs probabilities of belonging to a class, which can be useful for understanding the confidence of the prediction and for setting different classification thresholds.\n",
        "\n",
        "Less Prone to Overfitting with Regularization: With the help of regularization techniques (L1, L2, Elastic Net), Logistic Regression can effectively prevent overfitting, especially when dealing with many features.\n",
        "\n",
        "Disadvantages:\n",
        "\n",
        "Assumes Linearity of Log-Odds: While it doesn't assume a linear relationship between features and the outcome itself, it assumes a linear relationship between the features and the log-odds of the outcome. If this assumption is violated, the model's performance may be poor.\n",
        "\n",
        "Difficulty with Complex Relationships: Logistic Regression struggles to capture complex, non-linear relationships between features and the target variable.\n",
        "Sensitive to Outliers: Like Linear Regression, Logistic Regression can be sensitive to outliers in the data, which can disproportionately influence the model coefficients.\n",
        "\n",
        "Assumes Independence of Observations: It assumes that the observations are independent. If there are dependencies between data points, the model might not perform optimally.\n",
        "\n",
        "Can be Affected by Multicollinearity: High correlation between features can lead to unstable coefficient estimates and make it difficult to interpret the individual impact of each feature.\n",
        "Regularization can help mitigate this.\n",
        "\n",
        "Limited to Binary Outcomes (in its basic form): The fundamental Logistic Regression model is designed for binary classification. While extensions like OvR, OvO, and Multinomial Logistic Regression exist for multiclass problems, they can add complexity."
      ],
      "metadata": {
        "id": "W_FS8RZS5af5"
      }
    },
    {
      "cell_type": "markdown",
      "source": [
        "Ques 17. What are some use cases of Logistic Regression?\n",
        "\n",
        "Ans 17. Logistic regression is used when the outcome variable is categorical, specifically when it has two or more discrete outcomes. It's a classification algorithm that estimates the probability of an instance belonging to a particular category.\n",
        "\n",
        "Here's a more detailed breakdown:\n",
        "\n",
        "When to use Logistic Regression:\n",
        "\n",
        "Binary Classification:\n",
        "The most common application is for binary classification problems, where there are only two possible outcomes (e.g., yes/no, true/false, spam/not spam).\n",
        "\n",
        "Multi-class Classification:\n",
        "Logistic regression can also be extended to handle cases with more than two categories (multinomial logistic regression), though other algorithms like softmax regression are often preferred in these scenarios.\n",
        "\n",
        "Predicting Probabilities:\n",
        "Instead of just predicting a category, logistic regression provides the probability of an instance belonging to each category, which can be useful in many applications.\n",
        "\n",
        "Modeling Nonlinear Relationships:\n",
        "Logistic regression can handle nonlinear relationships between variables, making it suitable for situations where a linear model might not provide accurate predictions.\n",
        "\n",
        "Examples of Logistic Regression Use Cases:\n",
        "Medical Diagnosis: Predicting whether a patient has a disease based on various health indicators.\n",
        "\n",
        "Fraud Detection: Identifying fraudulent transactions in banking or insurance.\n",
        "\n",
        "Marketing: Predicting customer churn or the likelihood of a customer purchasing a product.\n",
        "\n",
        "Spam Filtering: Classifying emails as spam or not spam.\n",
        "\n",
        "Risk Assessment: Evaluating the risk of loan defaults or other potential losses.\n",
        "\n",
        "Natural Language Processing: Analyzing text data to determine sentiment or categorize documents.\n",
        "\n",
        "Key Differences from Linear Regression:\n",
        "\n",
        "Dependent Variable:\n",
        "Linear regression is used for continuous dependent variables, while logistic regression is used for categorical dependent variables.\n",
        "\n",
        "Output:\n",
        "Linear regression outputs a continuous value, while logistic regression outputs probabilities or class labels.\n",
        "\n",
        "In essence, logistic regression is a powerful tool for classification problems where the outcome is discrete, and it can be applied in a wide range of fields.\n"
      ],
      "metadata": {
        "id": "FpKJ2bwc58Xx"
      }
    },
    {
      "cell_type": "markdown",
      "source": [
        "Ques 18. What is the difference between Softmax Regression and Logistic Regression?\n",
        "\n",
        "Ans 18. The key distinction lies in the type of classification problem they are designed for:\n",
        "\n",
        "Logistic Regression: This is fundamentally a binary classification algorithm. It's used when you have two possible outcomes or classes to predict (e.g., spam or not spam, sick or not sick). It uses the sigmoid function to output a probability between 0 and 1, representing the likelihood of an instance belonging to the positive class.\n",
        "\n",
        "Softmax Regression (Multinomial Logistic Regression): This is an extension of Logistic Regression designed for multiclass classification. It's used when you have more than two possible outcomes or classes to predict (e.g., classifying images of different animal species: cat, dog, bird). Instead of the sigmoid function, it uses the softmax function to output a probability distribution over all classes. This means the output is a set of probabilities, one for each class, that sum up to 1. The class with the highest probability is the predicted class.\n",
        "\n",
        "In simpler terms:\n",
        "\n",
        "If you have two classes, use Logistic Regression.\n",
        "If you have more than two classes, use Softmax Regression."
      ],
      "metadata": {
        "id": "5l7C5uiO6Xum"
      }
    },
    {
      "cell_type": "markdown",
      "source": [
        "Ques 19. How do we choose between One-vs-Rest (OvR) and Softmax for multiclass classification?\n",
        "\n",
        "Ans 19. The choice between One-vs-Rest (OvR) and Softmax for multiclass classification depends on the characteristics of your data and the desired properties of your model. OvR is a simpler, often faster, approach, especially beneficial when classes are relatively independent. Softmax, on the other hand, is generally more accurate, particularly when class relationships are important, but it can be more computationally expensive and require more careful tuning.\n",
        "\n",
        "Here's a more detailed breakdown:\n",
        "\n",
        "One-vs-Rest (OvR):\n",
        "\n",
        "How it works:\n",
        "Trains a separate binary classifier for each class, treating it as positive and all other classes as negative.\n",
        "\n",
        "Strengths:\n",
        "Simpler to implement and understand: It breaks down a complex problem into simpler binary classification tasks.\n",
        "\n",
        "Faster training: Can be faster, especially with many classes, as each binary classifier can be trained in parallel.\n",
        "\n",
        "Flexibility: Allows for using different algorithms for different classes if needed.\n",
        "\n",
        "Weaknesses:\n",
        "Can be less accurate: Doesn't explicitly model the relationships between classes.\n",
        "\n",
        "Potential for class imbalance: If one class is significantly larger than others, it can affect the performance of that classifier."
      ],
      "metadata": {
        "id": "j5-pE1Gr7MIA"
      }
    },
    {
      "cell_type": "markdown",
      "source": [
        "Ques 20. How do we interpret coefficients in Logistic Regression?\n",
        "\n",
        "Ans 20. In logistic regression, coefficients represent the change in the log-odds of the outcome for a one-unit change in the predictor variable, holding all other variables constant. These coefficients are not directly interpretable in terms of probability but can be converted to odds ratios for a more intuitive understanding of how predictors influence the likelihood of an event.\n",
        "\n",
        "Here's a breakdown:\n",
        "\n",
        "Log-odds:\n",
        "Logistic regression models the relationship between predictors and the outcome using the log-odds (logit) of the event occurring.\n",
        "\n",
        "Coefficients:\n",
        "The coefficients in the logistic regression equation represent the change in the log-odds for a one-unit increase in the corresponding predictor.\n",
        "\n",
        "Odds Ratio:\n",
        "Exponentiating the coefficient (ecoefficient) gives the odds ratio. The odds ratio indicates how much the odds of the event change for a one-unit increase in the predictor, holding other variables constant.\n",
        "\n",
        "Interpretation:\n",
        "Positive coefficients/odds ratios > 1: An increase in the predictor is associated with an increased likelihood of the event.\n",
        "\n",
        "Negative coefficients/odds ratios < 1: An increase in the predictor is associated with a decreased likelihood of the event.\n",
        "Coefficient/odds ratio = 1: The predictor has no effect on the odds of the event.\n",
        "\n",
        "Example:\n",
        "Let's say you're modeling the probability of a customer churning (or not churning) based on their monthly charges. A positive coefficient for \"Monthly Charges\" in your logistic regression model means that as monthly charges increase, the log-odds of a customer churning also increase. If you exponentiate that coefficient and get an odds ratio of 1.1, it means that for every one-unit increase in monthly charges, the odds of churning increase by 10% (1.1 - 1 = 0.1, or 10%).\n",
        "\n",
        "Important Considerations:\n",
        "\n",
        "Statistical Significance:\n",
        "Always check the statistical significance of the coefficients (e.g., using p-values or z-values) to determine if the observed relationships are likely due to chance or real effects.\n",
        "\n",
        "Context:\n",
        "The interpretation of coefficients can be more complex when dealing with interaction terms or categorical variables. It's crucial to understand how these factors influence the relationships within the model."
      ],
      "metadata": {
        "id": "6ES_E0Fh7fRy"
      }
    },
    {
      "cell_type": "markdown",
      "source": [
        "      *** PRACTICAL QUESTIONS AND ANSWERS ***"
      ],
      "metadata": {
        "id": "r5uDzjHM9YAb"
      }
    },
    {
      "cell_type": "code",
      "source": [
        "# Ques 1. Write a Python program that loads a dataset, splits it into training and testing sets, applies Logistic Regression, and prints the model accuracy.\n",
        "\n",
        "# Solution 1.\n",
        "\n",
        "from sklearn.datasets import load_iris\n",
        "from sklearn.model_selection import train_test_split\n",
        "from sklearn.linear_model import LogisticRegression\n",
        "from sklearn.metrics import accuracy_score\n",
        "\n",
        "# Load the dataset\n",
        "iris = load_iris()\n",
        "X = iris.data  # Features\n",
        "y = iris.target  # Labels\n",
        "\n",
        "# Split the data into training and testing sets (80% train, 20% test)\n",
        "X_train, X_test, y_train, y_test = train_test_split(X, y, test_size=0.2, random_state=42)\n",
        "\n",
        "# Create and train the Logistic Regression model\n",
        "model = LogisticRegression(max_iter=200)\n",
        "model.fit(X_train, y_train)\n",
        "\n",
        "# Predict using the test set\n",
        "y_pred = model.predict(X_test)\n",
        "\n",
        "# Calculate and print the accuracy\n",
        "accuracy = accuracy_score(y_test, y_pred)\n",
        "print(f\"Logistic Regression model accuracy: {accuracy:.2f}\")\n"
      ],
      "metadata": {
        "colab": {
          "base_uri": "https://localhost:8080/"
        },
        "id": "z6s6ZY5-lRHM",
        "outputId": "55a911d9-8c04-4bb3-b346-2ac05427f2bd"
      },
      "execution_count": 1,
      "outputs": [
        {
          "output_type": "stream",
          "name": "stdout",
          "text": [
            "Logistic Regression model accuracy: 1.00\n"
          ]
        }
      ]
    },
    {
      "cell_type": "code",
      "source": [
        "# Ques 2. Write a Python program to apply L1 regularization (Lasso) on a dataset using LogisticRegression(penalty='l1') and print the model accuracy.\n",
        "\n",
        "# Solution 2.\n",
        "\n",
        "# Load the dataset\n",
        "iris = load_iris()\n",
        "X = iris.data  # Features\n",
        "y = iris.target  # Labels\n",
        "\n",
        "# Split the data into training and testing sets (80% train, 20% test)\n",
        "X_train, X_test, y_train, y_test = train_test_split(X, y, test_size=0.2, random_state=42)\n",
        "\n",
        "# Create and train the Logistic Regression model with L1 regularization\n",
        "# Use liblinear solver for L1 penalty\n",
        "model_l1 = LogisticRegression(penalty='l1', solver='liblinear', max_iter=200)\n",
        "model_l1.fit(X_train, y_train)\n",
        "\n",
        "# Predict using the test set\n",
        "y_pred_l1 = model_l1.predict(X_test)\n",
        "\n",
        "# Calculate and print the accuracy\n",
        "accuracy_l1 = accuracy_score(y_test, y_pred_l1)\n",
        "print(f\"Logistic Regression with L1 regularization model accuracy: {accuracy_l1:.2f}\")"
      ],
      "metadata": {
        "colab": {
          "base_uri": "https://localhost:8080/"
        },
        "id": "XSCz68E3l8D4",
        "outputId": "20aea022-1d85-4f41-f184-e8df16fcdd28"
      },
      "execution_count": 2,
      "outputs": [
        {
          "output_type": "stream",
          "name": "stdout",
          "text": [
            "Logistic Regression with L1 regularization model accuracy: 1.00\n"
          ]
        }
      ]
    },
    {
      "cell_type": "code",
      "source": [
        "# Ques 3. Write a Python program to train Logistic Regression with L2 regularization (Ridge) using LogisticRegression(penalty='l2'). Print model accuracy and coefficients.\n",
        "\n",
        "# Solution 3.\n",
        "\n",
        "# Load the dataset\n",
        "iris = load_iris()\n",
        "X = iris.data  # Features\n",
        "y = iris.target  # Labels\n",
        "\n",
        "# Split the data into training and testing sets (80% train, 20% test)\n",
        "X_train, X_test, y_train, y_test = train_test_split(X, y, test_size=0.2, random_state=42)\n",
        "\n",
        "# Create and train the Logistic Regression model with L2 regularization\n",
        "model_l2 = LogisticRegression(penalty='l2', max_iter=200)\n",
        "model_l2.fit(X_train, y_train)\n",
        "\n",
        "# Predict using the test set\n",
        "y_pred_l2 = model_l2.predict(X_test)\n",
        "\n",
        "# Calculate and print the accuracy\n",
        "accuracy_l2 = accuracy_score(y_test, y_pred_l2)\n",
        "print(f\"Logistic Regression with L2 regularization model accuracy: {accuracy_l2:.2f}\")\n",
        "\n",
        "# Print the coefficients\n",
        "print(\"Model coefficients (weights) for each feature:\")\n",
        "print(model_l2.coef_)\n",
        "print(\"Model intercept (bias):\")\n",
        "print(model_l2.intercept_)"
      ],
      "metadata": {
        "colab": {
          "base_uri": "https://localhost:8080/"
        },
        "id": "E8l7c8m4mKWK",
        "outputId": "f58dbdcd-5564-4d60-e8be-a3f62a956363"
      },
      "execution_count": 3,
      "outputs": [
        {
          "output_type": "stream",
          "name": "stdout",
          "text": [
            "Logistic Regression with L2 regularization model accuracy: 1.00\n",
            "Model coefficients (weights) for each feature:\n",
            "[[-0.39345607  0.96251768 -2.37512436 -0.99874594]\n",
            " [ 0.50843279 -0.25482714 -0.21301129 -0.77574766]\n",
            " [-0.11497673 -0.70769055  2.58813565  1.7744936 ]]\n",
            "Model intercept (bias):\n",
            "[  9.00884295   1.86902164 -10.87786459]\n"
          ]
        }
      ]
    },
    {
      "cell_type": "code",
      "source": [
        "# Ques 4. Write a Python program to train Logistic Regression with Elastic Net Regularization (penalty='elasticnet').\n",
        "\n",
        "# Solution 4.\n",
        "\n",
        "from sklearn.datasets import load_iris\n",
        "from sklearn.model_selection import train_test_split\n",
        "from sklearn.linear_model import LogisticRegression\n",
        "from sklearn.metrics import accuracy_score\n",
        "\n",
        "# Load the dataset\n",
        "iris = load_iris()\n",
        "X = iris.data  # Features\n",
        "y = iris.target  # Labels\n",
        "\n",
        "# Split the data into training and testing sets (80% train, 20% test)\n",
        "X_train, X_test, y_train, y_test = train_test_split(X, y, test_size=0.2, random_state=42)\n",
        "\n",
        "# Create and train the Logistic Regression model with Elastic Net regularization\n",
        "# Use 'saga' solver for elasticnet penalty\n",
        "# The l1_ratio parameter controls the mix of L1 and L2\n",
        "model_elasticnet = LogisticRegression(penalty='elasticnet', solver='saga', l1_ratio=0.5, max_iter=200)\n",
        "model_elasticnet.fit(X_train, y_train)\n",
        "\n",
        "# Predict using the test set\n",
        "y_pred_elasticnet = model_elasticnet.predict(X_test)\n",
        "\n",
        "# Calculate and print the accuracy\n",
        "accuracy_elasticnet = accuracy_score(y_test, y_pred_elasticnet)\n",
        "print(f\"Logistic Regression with Elastic Net regularization model accuracy: {accuracy_elasticnet:.2f}\")"
      ],
      "metadata": {
        "colab": {
          "base_uri": "https://localhost:8080/"
        },
        "id": "dHjRB0onmdoy",
        "outputId": "c72cb22e-9902-4c11-c38f-b489692d6cdf"
      },
      "execution_count": 4,
      "outputs": [
        {
          "output_type": "stream",
          "name": "stdout",
          "text": [
            "Logistic Regression with Elastic Net regularization model accuracy: 1.00\n"
          ]
        },
        {
          "output_type": "stream",
          "name": "stderr",
          "text": [
            "/usr/local/lib/python3.11/dist-packages/sklearn/linear_model/_sag.py:348: ConvergenceWarning: The max_iter was reached which means the coef_ did not converge\n",
            "  warnings.warn(\n"
          ]
        }
      ]
    },
    {
      "cell_type": "code",
      "source": [
        "# Ques 5. Write a Python program to train a Logistic Regression model for multiclass classification using multi_class='ovr'\n",
        "\n",
        "# Solution 5.\n",
        "\n",
        "from sklearn.datasets import load_iris\n",
        "from sklearn.model_selection import train_test_split\n",
        "from sklearn.linear_model import LogisticRegression\n",
        "from sklearn.metrics import accuracy_score\n",
        "\n",
        "# Load the dataset\n",
        "iris = load_iris()\n",
        "X = iris.data  # Features\n",
        "y = iris.target  # Labels\n",
        "\n",
        "# Split the data into training and testing sets (80% train, 20% test)\n",
        "X_train, X_test, y_train, y_test = train_test_split(X, y, test_size=0.2, random_state=42)\n",
        "\n",
        "# Create and train the Logistic Regression model for multiclass classification using 'ovr'\n",
        "# 'ovr' stands for One-vs-Rest (or One-vs-All)\n",
        "model_ovr = LogisticRegression(multi_class='ovr', solver='liblinear', max_iter=200)\n",
        "model_ovr.fit(X_train, y_train)\n",
        "\n",
        "# Predict using the test set\n",
        "y_pred_ovr = model_ovr.predict(X_test)\n",
        "\n",
        "# Calculate and print the accuracy\n",
        "accuracy_ovr = accuracy_score(y_test, y_pred_ovr)\n",
        "print(f\"Logistic Regression with 'ovr' multiclass strategy accuracy: {accuracy_ovr:.2f}\")"
      ],
      "metadata": {
        "colab": {
          "base_uri": "https://localhost:8080/"
        },
        "id": "VYanurmimvYw",
        "outputId": "1ebcded7-9888-4b2a-b538-c157cb52acd5"
      },
      "execution_count": 5,
      "outputs": [
        {
          "output_type": "stream",
          "name": "stdout",
          "text": [
            "Logistic Regression with 'ovr' multiclass strategy accuracy: 1.00\n"
          ]
        },
        {
          "output_type": "stream",
          "name": "stderr",
          "text": [
            "/usr/local/lib/python3.11/dist-packages/sklearn/linear_model/_logistic.py:1256: FutureWarning: 'multi_class' was deprecated in version 1.5 and will be removed in 1.7. Use OneVsRestClassifier(LogisticRegression(..)) instead. Leave it to its default value to avoid this warning.\n",
            "  warnings.warn(\n"
          ]
        }
      ]
    },
    {
      "cell_type": "code",
      "source": [
        "# Ques 6. Write a Python program to apply GridSearchCV to tune the hyperparameters (C and penalty) of Logistic Regression. Print the best parameters and accuracy.\n",
        "\n",
        "# Solution 6.\n",
        "\n",
        "from sklearn.datasets import load_iris\n",
        "from sklearn.model_selection import train_test_split, GridSearchCV\n",
        "from sklearn.linear_model import LogisticRegression\n",
        "from sklearn.metrics import accuracy_score\n",
        "\n",
        "# Load dataset\n",
        "iris = load_iris()\n",
        "X = iris.data\n",
        "y = iris.target\n",
        "\n",
        "# Train/test split\n",
        "X_train, X_test, y_train, y_test = train_test_split(X, y, test_size=0.2, random_state=42)\n",
        "\n",
        "# Define parameter grid for GridSearchCV\n",
        "param_grid = {\n",
        "    'C': [0.01, 0.1, 1, 10, 100],\n",
        "    'penalty': ['l1', 'l2'],\n",
        "    'solver': ['liblinear']  # liblinear supports both l1 and l2\n",
        "}\n",
        "\n",
        "# Create Logistic Regression model\n",
        "log_reg = LogisticRegression(max_iter=200)\n",
        "\n",
        "# Apply GridSearchCV\n",
        "grid_search = GridSearchCV(log_reg, param_grid, cv=5, scoring='accuracy')\n",
        "grid_search.fit(X_train, y_train)\n",
        "\n",
        "# Best parameters and model\n",
        "print(\"Best Parameters:\", grid_search.best_params_)\n",
        "\n",
        "# Evaluate on test set\n",
        "best_model = grid_search.best_estimator_\n",
        "y_pred = best_model.predict(X_test)\n",
        "accuracy = accuracy_score(y_test, y_pred)\n",
        "print(f\"Accuracy with Best Parameters: {accuracy:.2f}\")"
      ],
      "metadata": {
        "colab": {
          "base_uri": "https://localhost:8080/"
        },
        "id": "KHT5Imy9nV8n",
        "outputId": "e5fc579d-8f4f-4092-b190-ae9f314f337f"
      },
      "execution_count": 35,
      "outputs": [
        {
          "output_type": "stream",
          "name": "stdout",
          "text": [
            "Best Parameters: {'C': 10, 'penalty': 'l1', 'solver': 'liblinear'}\n",
            "Accuracy with Best Parameters: 1.00\n"
          ]
        }
      ]
    },
    {
      "cell_type": "code",
      "source": [
        "# Ques 7. Write a Python program to evaluate Logistic Regression using Stratified K-Fold Cross-Validation. Print the average accuracy.\n",
        "\n",
        "# Solution 7.\n",
        "\n",
        "from sklearn.datasets import load_iris\n",
        "from sklearn.model_selection import StratifiedKFold, cross_val_score\n",
        "from sklearn.linear_model import LogisticRegression\n",
        "import numpy as np\n",
        "\n",
        "# Load the dataset\n",
        "iris = load_iris()\n",
        "X = iris.data  # Features\n",
        "y = iris.target  # Labels\n",
        "\n",
        "# Create a Logistic Regression model instance\n",
        "logreg = LogisticRegression(max_iter=200)\n",
        "\n",
        "# Create a Stratified K-Fold cross-validation object\n",
        "# n_splits is the number of folds (e.g., 5 or 10 are common)\n",
        "# shuffle=True shuffles the data before splitting\n",
        "# random_state is for reproducibility\n",
        "skf = StratifiedKFold(n_splits=5, shuffle=True, random_state=42)\n",
        "\n",
        "# Perform cross-validation\n",
        "# cross_val_score returns an array of accuracy scores for each fold\n",
        "scores = cross_val_score(logreg, X, y, cv=skf, scoring='accuracy')\n",
        "\n",
        "# Print the accuracy scores for each fold\n",
        "print(\"Accuracy scores for each fold:\")\n",
        "print(scores)\n",
        "\n",
        "# Calculate and print the average accuracy\n",
        "average_accuracy = np.mean(scores)\n",
        "print(f\"Average accuracy across all folds: {average_accuracy:.2f}\")"
      ],
      "metadata": {
        "colab": {
          "base_uri": "https://localhost:8080/"
        },
        "id": "EMcaCsR-nl3v",
        "outputId": "a97b15b2-cdb5-4a80-cced-163ffabcc19b"
      },
      "execution_count": 7,
      "outputs": [
        {
          "output_type": "stream",
          "name": "stdout",
          "text": [
            "Accuracy scores for each fold:\n",
            "[1.         0.96666667 0.93333333 1.         0.93333333]\n",
            "Average accuracy across all folds: 0.97\n"
          ]
        }
      ]
    },
    {
      "cell_type": "code",
      "source": [
        "# Ques 8. Write a Python program to load a dataset from a CSV file, apply Logistic Regression, and evaluate its accuracy.\n",
        "\n",
        "# Solution 8.\n",
        "\n",
        "import pandas as pd\n",
        "from sklearn.model_selection import train_test_split\n",
        "from sklearn.linear_model import LogisticRegression\n",
        "from sklearn.metrics import accuracy_score\n",
        "\n",
        "# Assuming you have a CSV file named 'your_dataset.csv'\n",
        "# Make sure the CSV file is uploaded to your Colab environment or mounted from Google Drive\n",
        "# Replace 'your_dataset.csv' with the actual filename and path\n",
        "\n",
        "try:\n",
        "    # Load the dataset from a CSV file\n",
        "    # Replace 'your_dataset.csv' with the name of your CSV file\n",
        "    df = pd.read_csv('your_dataset.csv')\n",
        "\n",
        "    # Assuming your target variable is in the last column and features are in the other columns\n",
        "    # Adjust the column indexing if your dataset has a different structure\n",
        "    X = df.iloc[:, :-1]  # Features (all columns except the last one)\n",
        "    y = df.iloc[:, -1]   # Target variable (the last column)\n",
        "\n",
        "    # Split the data into training and testing sets (80% train, 20% test)\n",
        "    X_train, X_test, y_train, y_test = train_test_split(X, y, test_size=0.2, random_state=42)\n",
        "\n",
        "    # Create and train the Logistic Regression model\n",
        "    model = LogisticRegression(max_iter=200)\n",
        "    model.fit(X_train, y_train)\n",
        "\n",
        "    # Predict using the test set\n",
        "    y_pred = model.predict(X_test)\n",
        "\n",
        "    # Calculate and print the accuracy\n",
        "    accuracy = accuracy_score(y_test, y_pred)\n",
        "    print(f\"Logistic Regression model accuracy on the test set: {accuracy:.2f}\")\n",
        "\n",
        "except FileNotFoundError:\n",
        "    print(\"Error: 'your_dataset.csv' not found. Please make sure the CSV file is in the correct location.\")\n",
        "except Exception as e:\n",
        "    print(f\"An error occurred: {e}\")"
      ],
      "metadata": {
        "colab": {
          "base_uri": "https://localhost:8080/"
        },
        "id": "eGuiSN73n1K5",
        "outputId": "5022c111-307d-4228-86ae-48d8ee31c273"
      },
      "execution_count": 39,
      "outputs": [
        {
          "output_type": "stream",
          "name": "stdout",
          "text": [
            "An error occurred: could not convert string to float: 'Female'\n"
          ]
        }
      ]
    },
    {
      "cell_type": "code",
      "source": [
        "# Ques 9. Write a Python program to apply RandomizedSearchCV for tuning hyperparameters (C, penalty, solver) in Logistic Regression. Print the best parameters and accuracy.\n",
        "\n",
        "# Solution 9.\n",
        "\n",
        "import numpy as np\n",
        "from sklearn.linear_model import LogisticRegression\n",
        "from sklearn.model_selection import RandomizedSearchCV, train_test_split\n",
        "from sklearn.datasets import make_classification\n",
        "from scipy.stats import uniform, randint\n",
        "\n",
        "# Generate a synthetic dataset\n",
        "X, y = make_classification(n_samples=1000, n_features=20, random_state=42)\n",
        "X_train, X_test, y_train, y_test = train_test_split(X, y, test_size=0.2, random_state=42)\n",
        "\n",
        "# Define the hyperparameter grid for RandomizedSearchCV\n",
        "param_distributions = {\n",
        "    'penalty': ['l1', 'l2', 'elasticnet', 'none'],\n",
        "    'C': uniform(0.001, 10),\n",
        "    'solver': ['liblinear', 'saga', 'lbfgs', 'newton-cg', 'newton-cholesky']\n",
        "}\n",
        "\n",
        "# Create the Logistic Regression model\n",
        "logistic = LogisticRegression(random_state=42, max_iter=10000)\n",
        "\n",
        "# Create the RandomizedSearchCV object\n",
        "random_search = RandomizedSearchCV(\n",
        "    logistic,\n",
        "    param_distributions=param_distributions,\n",
        "    n_iter=50,  # Number of random combinations to try\n",
        "    cv=5,       # Number of cross-validation folds\n",
        "    scoring='accuracy',\n",
        "    random_state=42,\n",
        "    n_jobs=-1,    # Use all available cores\n",
        "    verbose=0\n",
        ")\n",
        "\n",
        "# Fit the RandomizedSearchCV object to the training data\n",
        "random_search.fit(X_train, y_train)\n",
        "\n",
        "# Get the best parameters and score\n",
        "best_params = random_search.best_params_\n",
        "best_score = random_search.best_score_\n",
        "\n",
        "# Print the best parameters and accuracy\n",
        "print(\"Best parameters:\", best_params)\n",
        "print(\"Best cross-validation accuracy:\", best_score)\n",
        "\n",
        "# Evaluate on the test set\n",
        "best_model = random_search.best_estimator_\n",
        "test_accuracy = best_model.score(X_test, y_test)\n",
        "print(\"Test accuracy:\", test_accuracy)\n"
      ],
      "metadata": {
        "colab": {
          "base_uri": "https://localhost:8080/"
        },
        "id": "j6s1jXzKoj9T",
        "outputId": "c21f4783-5250-414b-b6ac-bb8a1df6168a"
      },
      "execution_count": 43,
      "outputs": [
        {
          "output_type": "stream",
          "name": "stdout",
          "text": [
            "Best parameters: {'C': np.float64(0.1573640674119393), 'penalty': 'l1', 'solver': 'liblinear'}\n",
            "Best cross-validation accuracy: 0.8712500000000001\n",
            "Test accuracy: 0.875\n"
          ]
        },
        {
          "output_type": "stream",
          "name": "stderr",
          "text": [
            "/usr/local/lib/python3.11/dist-packages/sklearn/model_selection/_validation.py:528: FitFailedWarning: \n",
            "170 fits failed out of a total of 250.\n",
            "The score on these train-test partitions for these parameters will be set to nan.\n",
            "If these failures are not expected, you can try to debug them by setting error_score='raise'.\n",
            "\n",
            "Below are more details about the failures:\n",
            "--------------------------------------------------------------------------------\n",
            "15 fits failed with the following error:\n",
            "Traceback (most recent call last):\n",
            "  File \"/usr/local/lib/python3.11/dist-packages/sklearn/model_selection/_validation.py\", line 866, in _fit_and_score\n",
            "    estimator.fit(X_train, y_train, **fit_params)\n",
            "  File \"/usr/local/lib/python3.11/dist-packages/sklearn/base.py\", line 1389, in wrapper\n",
            "    return fit_method(estimator, *args, **kwargs)\n",
            "           ^^^^^^^^^^^^^^^^^^^^^^^^^^^^^^^^^^^^^^\n",
            "  File \"/usr/local/lib/python3.11/dist-packages/sklearn/linear_model/_logistic.py\", line 1193, in fit\n",
            "    solver = _check_solver(self.solver, self.penalty, self.dual)\n",
            "             ^^^^^^^^^^^^^^^^^^^^^^^^^^^^^^^^^^^^^^^^^^^^^^^^^^^\n",
            "  File \"/usr/local/lib/python3.11/dist-packages/sklearn/linear_model/_logistic.py\", line 63, in _check_solver\n",
            "    raise ValueError(\n",
            "ValueError: Solver lbfgs supports only 'l2' or None penalties, got l1 penalty.\n",
            "\n",
            "--------------------------------------------------------------------------------\n",
            "15 fits failed with the following error:\n",
            "Traceback (most recent call last):\n",
            "  File \"/usr/local/lib/python3.11/dist-packages/sklearn/model_selection/_validation.py\", line 866, in _fit_and_score\n",
            "    estimator.fit(X_train, y_train, **fit_params)\n",
            "  File \"/usr/local/lib/python3.11/dist-packages/sklearn/base.py\", line 1389, in wrapper\n",
            "    return fit_method(estimator, *args, **kwargs)\n",
            "           ^^^^^^^^^^^^^^^^^^^^^^^^^^^^^^^^^^^^^^\n",
            "  File \"/usr/local/lib/python3.11/dist-packages/sklearn/linear_model/_logistic.py\", line 1193, in fit\n",
            "    solver = _check_solver(self.solver, self.penalty, self.dual)\n",
            "             ^^^^^^^^^^^^^^^^^^^^^^^^^^^^^^^^^^^^^^^^^^^^^^^^^^^\n",
            "  File \"/usr/local/lib/python3.11/dist-packages/sklearn/linear_model/_logistic.py\", line 63, in _check_solver\n",
            "    raise ValueError(\n",
            "ValueError: Solver lbfgs supports only 'l2' or None penalties, got elasticnet penalty.\n",
            "\n",
            "--------------------------------------------------------------------------------\n",
            "71 fits failed with the following error:\n",
            "Traceback (most recent call last):\n",
            "  File \"/usr/local/lib/python3.11/dist-packages/sklearn/model_selection/_validation.py\", line 866, in _fit_and_score\n",
            "    estimator.fit(X_train, y_train, **fit_params)\n",
            "  File \"/usr/local/lib/python3.11/dist-packages/sklearn/base.py\", line 1382, in wrapper\n",
            "    estimator._validate_params()\n",
            "  File \"/usr/local/lib/python3.11/dist-packages/sklearn/base.py\", line 436, in _validate_params\n",
            "    validate_parameter_constraints(\n",
            "  File \"/usr/local/lib/python3.11/dist-packages/sklearn/utils/_param_validation.py\", line 98, in validate_parameter_constraints\n",
            "    raise InvalidParameterError(\n",
            "sklearn.utils._param_validation.InvalidParameterError: The 'penalty' parameter of LogisticRegression must be a str among {'l1', 'l2', 'elasticnet'} or None. Got 'none' instead.\n",
            "\n",
            "--------------------------------------------------------------------------------\n",
            "10 fits failed with the following error:\n",
            "Traceback (most recent call last):\n",
            "  File \"/usr/local/lib/python3.11/dist-packages/sklearn/model_selection/_validation.py\", line 866, in _fit_and_score\n",
            "    estimator.fit(X_train, y_train, **fit_params)\n",
            "  File \"/usr/local/lib/python3.11/dist-packages/sklearn/base.py\", line 1389, in wrapper\n",
            "    return fit_method(estimator, *args, **kwargs)\n",
            "           ^^^^^^^^^^^^^^^^^^^^^^^^^^^^^^^^^^^^^^\n",
            "  File \"/usr/local/lib/python3.11/dist-packages/sklearn/linear_model/_logistic.py\", line 1203, in fit\n",
            "    raise ValueError(\"l1_ratio must be specified when penalty is elasticnet.\")\n",
            "ValueError: l1_ratio must be specified when penalty is elasticnet.\n",
            "\n",
            "--------------------------------------------------------------------------------\n",
            "20 fits failed with the following error:\n",
            "Traceback (most recent call last):\n",
            "  File \"/usr/local/lib/python3.11/dist-packages/sklearn/model_selection/_validation.py\", line 866, in _fit_and_score\n",
            "    estimator.fit(X_train, y_train, **fit_params)\n",
            "  File \"/usr/local/lib/python3.11/dist-packages/sklearn/base.py\", line 1389, in wrapper\n",
            "    return fit_method(estimator, *args, **kwargs)\n",
            "           ^^^^^^^^^^^^^^^^^^^^^^^^^^^^^^^^^^^^^^\n",
            "  File \"/usr/local/lib/python3.11/dist-packages/sklearn/linear_model/_logistic.py\", line 1193, in fit\n",
            "    solver = _check_solver(self.solver, self.penalty, self.dual)\n",
            "             ^^^^^^^^^^^^^^^^^^^^^^^^^^^^^^^^^^^^^^^^^^^^^^^^^^^\n",
            "  File \"/usr/local/lib/python3.11/dist-packages/sklearn/linear_model/_logistic.py\", line 63, in _check_solver\n",
            "    raise ValueError(\n",
            "ValueError: Solver newton-cholesky supports only 'l2' or None penalties, got elasticnet penalty.\n",
            "\n",
            "--------------------------------------------------------------------------------\n",
            "9 fits failed with the following error:\n",
            "Traceback (most recent call last):\n",
            "  File \"/usr/local/lib/python3.11/dist-packages/sklearn/model_selection/_validation.py\", line 866, in _fit_and_score\n",
            "    estimator.fit(X_train, y_train, **fit_params)\n",
            "  File \"/usr/local/lib/python3.11/dist-packages/sklearn/base.py\", line 1382, in wrapper\n",
            "    estimator._validate_params()\n",
            "  File \"/usr/local/lib/python3.11/dist-packages/sklearn/base.py\", line 436, in _validate_params\n",
            "    validate_parameter_constraints(\n",
            "  File \"/usr/local/lib/python3.11/dist-packages/sklearn/utils/_param_validation.py\", line 98, in validate_parameter_constraints\n",
            "    raise InvalidParameterError(\n",
            "sklearn.utils._param_validation.InvalidParameterError: The 'penalty' parameter of LogisticRegression must be a str among {'l1', 'elasticnet', 'l2'} or None. Got 'none' instead.\n",
            "\n",
            "--------------------------------------------------------------------------------\n",
            "15 fits failed with the following error:\n",
            "Traceback (most recent call last):\n",
            "  File \"/usr/local/lib/python3.11/dist-packages/sklearn/model_selection/_validation.py\", line 866, in _fit_and_score\n",
            "    estimator.fit(X_train, y_train, **fit_params)\n",
            "  File \"/usr/local/lib/python3.11/dist-packages/sklearn/base.py\", line 1389, in wrapper\n",
            "    return fit_method(estimator, *args, **kwargs)\n",
            "           ^^^^^^^^^^^^^^^^^^^^^^^^^^^^^^^^^^^^^^\n",
            "  File \"/usr/local/lib/python3.11/dist-packages/sklearn/linear_model/_logistic.py\", line 1193, in fit\n",
            "    solver = _check_solver(self.solver, self.penalty, self.dual)\n",
            "             ^^^^^^^^^^^^^^^^^^^^^^^^^^^^^^^^^^^^^^^^^^^^^^^^^^^\n",
            "  File \"/usr/local/lib/python3.11/dist-packages/sklearn/linear_model/_logistic.py\", line 63, in _check_solver\n",
            "    raise ValueError(\n",
            "ValueError: Solver newton-cg supports only 'l2' or None penalties, got l1 penalty.\n",
            "\n",
            "--------------------------------------------------------------------------------\n",
            "10 fits failed with the following error:\n",
            "Traceback (most recent call last):\n",
            "  File \"/usr/local/lib/python3.11/dist-packages/sklearn/model_selection/_validation.py\", line 866, in _fit_and_score\n",
            "    estimator.fit(X_train, y_train, **fit_params)\n",
            "  File \"/usr/local/lib/python3.11/dist-packages/sklearn/base.py\", line 1389, in wrapper\n",
            "    return fit_method(estimator, *args, **kwargs)\n",
            "           ^^^^^^^^^^^^^^^^^^^^^^^^^^^^^^^^^^^^^^\n",
            "  File \"/usr/local/lib/python3.11/dist-packages/sklearn/linear_model/_logistic.py\", line 1193, in fit\n",
            "    solver = _check_solver(self.solver, self.penalty, self.dual)\n",
            "             ^^^^^^^^^^^^^^^^^^^^^^^^^^^^^^^^^^^^^^^^^^^^^^^^^^^\n",
            "  File \"/usr/local/lib/python3.11/dist-packages/sklearn/linear_model/_logistic.py\", line 71, in _check_solver\n",
            "    raise ValueError(\n",
            "ValueError: Only 'saga' solver supports elasticnet penalty, got solver=liblinear.\n",
            "\n",
            "--------------------------------------------------------------------------------\n",
            "5 fits failed with the following error:\n",
            "Traceback (most recent call last):\n",
            "  File \"/usr/local/lib/python3.11/dist-packages/sklearn/model_selection/_validation.py\", line 866, in _fit_and_score\n",
            "    estimator.fit(X_train, y_train, **fit_params)\n",
            "  File \"/usr/local/lib/python3.11/dist-packages/sklearn/base.py\", line 1389, in wrapper\n",
            "    return fit_method(estimator, *args, **kwargs)\n",
            "           ^^^^^^^^^^^^^^^^^^^^^^^^^^^^^^^^^^^^^^\n",
            "  File \"/usr/local/lib/python3.11/dist-packages/sklearn/linear_model/_logistic.py\", line 1193, in fit\n",
            "    solver = _check_solver(self.solver, self.penalty, self.dual)\n",
            "             ^^^^^^^^^^^^^^^^^^^^^^^^^^^^^^^^^^^^^^^^^^^^^^^^^^^\n",
            "  File \"/usr/local/lib/python3.11/dist-packages/sklearn/linear_model/_logistic.py\", line 63, in _check_solver\n",
            "    raise ValueError(\n",
            "ValueError: Solver newton-cg supports only 'l2' or None penalties, got elasticnet penalty.\n",
            "\n",
            "  warnings.warn(some_fits_failed_message, FitFailedWarning)\n"
          ]
        }
      ]
    },
    {
      "cell_type": "code",
      "source": [
        "# Ques 10. Write a Python program to implement One-vs-One (OvO) Multiclass Logistic Regression and print accuracy.\n",
        "\n",
        "# Solution 10.\n",
        "\n",
        "from sklearn.datasets import load_iris\n",
        "from sklearn.model_selection import train_test_split\n",
        "from sklearn.linear_model import LogisticRegression\n",
        "from sklearn.multiclass import OneVsOneClassifier\n",
        "from sklearn.metrics import accuracy_score\n",
        "\n",
        "# Load the dataset\n",
        "iris = load_iris()\n",
        "X = iris.data  # Features\n",
        "y = iris.target  # Labels\n",
        "\n",
        "# Split the data into training and testing sets (80% train, 20% test)\n",
        "X_train, X_test, y_train, y_test = train_test_split(X, y, test_size=0.2, random_state=42)\n",
        "\n",
        "# Create a Logistic Regression base estimator\n",
        "base_estimator = LogisticRegression(max_iter=200, solver='liblinear') # Using liblinear for efficiency with OvO\n",
        "\n",
        "# Create a One-vs-One multiclass classifier\n",
        "# This will train a separate Logistic Regression model for every pair of classes\n",
        "model_ovo = OneVsOneClassifier(base_estimator)\n",
        "\n",
        "# Train the OvO classifier\n",
        "model_ovo.fit(X_train, y_train)\n",
        "\n",
        "# Predict using the test set\n",
        "y_pred_ovo = model_ovo.predict(X_test)\n",
        "\n",
        "# Calculate and print the accuracy\n",
        "accuracy_ovo = accuracy_score(y_test, y_pred_ovo)\n",
        "print(f\"One-vs-One Multiclass Logistic Regression accuracy: {accuracy_ovo:.2f}\")"
      ],
      "metadata": {
        "colab": {
          "base_uri": "https://localhost:8080/"
        },
        "id": "A_MZMmm5pOL3",
        "outputId": "8c38492a-0e61-445f-a365-3efac4f2d366"
      },
      "execution_count": 12,
      "outputs": [
        {
          "output_type": "stream",
          "name": "stdout",
          "text": [
            "One-vs-One Multiclass Logistic Regression accuracy: 1.00\n"
          ]
        }
      ]
    },
    {
      "cell_type": "code",
      "source": [
        "# Ques 11. Write a Python program to train a Logistic Regression model and visualize the confusion matrix for binary classification.\n",
        "\n",
        "# Solution 11.\n",
        "\n",
        "import numpy as np\n",
        "import matplotlib.pyplot as plt\n",
        "import seaborn as sns\n",
        "from sklearn.datasets import make_classification\n",
        "from sklearn.model_selection import train_test_split\n",
        "from sklearn.linear_model import LogisticRegression\n",
        "from sklearn.metrics import confusion_matrix, accuracy_score, classification_report\n",
        "\n",
        "# Generate a synthetic binary classification dataset\n",
        "X, y = make_classification(n_samples=1000, n_features=10, n_classes=2, random_state=42)\n",
        "\n",
        "# Split the data into training and testing sets (80% train, 20% test)\n",
        "X_train, X_test, y_train, y_test = train_test_split(X, y, test_size=0.2, random_state=42)\n",
        "\n",
        "# Create and train the Logistic Regression model\n",
        "model = LogisticRegression(max_iter=200)\n",
        "model.fit(X_train, y_train)\n",
        "\n",
        "# Predict using the test set\n",
        "y_pred = model.predict(X_test)\n",
        "\n",
        "# Calculate and print the accuracy\n",
        "accuracy = accuracy_score(y_test, y_pred)\n",
        "print(f\"Logistic Regression model accuracy: {accuracy:.2f}\")\n",
        "\n",
        "# Generate the confusion matrix\n",
        "cnf_matrix = confusion_matrix(y_test, y_pred)\n",
        "print(\"\\nConfusion Matrix:\")\n",
        "print(cnf_matrix)\n",
        "\n",
        "# Visualize the confusion matrix using seaborn\n",
        "plt.figure(figsize=(8, 6))\n",
        "sns.heatmap(cnf_matrix, annot=True, fmt='d', cmap='Blues', cbar=False,\n",
        "            xticklabels=['Predicted Negative', 'Predicted Positive'],\n",
        "            yticklabels=['Actual Negative', 'Actual Positive'])\n",
        "plt.xlabel('Predicted label')\n",
        "plt.ylabel('Actual label')\n",
        "plt.title('Confusion Matrix')\n",
        "plt.show()\n",
        "\n",
        "# Print the classification report\n",
        "print(\"\\nClassification Report:\")\n",
        "print(classification_report(y_test, y_pred))"
      ],
      "metadata": {
        "colab": {
          "base_uri": "https://localhost:8080/",
          "height": 836
        },
        "id": "9VQZBahypYA-",
        "outputId": "cd660774-f952-4ae2-a562-cd1aba1e1ef3"
      },
      "execution_count": 13,
      "outputs": [
        {
          "output_type": "stream",
          "name": "stdout",
          "text": [
            "Logistic Regression model accuracy: 0.83\n",
            "\n",
            "Confusion Matrix:\n",
            "[[75 14]\n",
            " [20 91]]\n"
          ]
        },
        {
          "output_type": "display_data",
          "data": {
            "text/plain": [
              "<Figure size 800x600 with 1 Axes>"
            ],
            "image/png": "[encoded data removed]"
          },
          "metadata": {}
        },
        {
          "output_type": "stream",
          "name": "stdout",
          "text": [
            "\n",
            "Classification Report:\n",
            "              precision    recall  f1-score   support\n",
            "\n",
            "           0       0.79      0.84      0.82        89\n",
            "           1       0.87      0.82      0.84       111\n",
            "\n",
            "    accuracy                           0.83       200\n",
            "   macro avg       0.83      0.83      0.83       200\n",
            "weighted avg       0.83      0.83      0.83       200\n",
            "\n"
          ]
        }
      ]
    },
    {
      "cell_type": "code",
      "source": [
        "# Ques 12. Write a Python program to train a Logistic Regression model and evaluate its performance using Precision, Recall, and F1-Score.\n",
        "\n",
        "# Solution 12.\n",
        "\n",
        "from sklearn.datasets import make_classification\n",
        "from sklearn.model_selection import train_test_split\n",
        "from sklearn.linear_model import LogisticRegression\n",
        "from sklearn.metrics import precision_score, recall_score, f1_score, accuracy_score\n",
        "\n",
        "# Generate a synthetic binary classification dataset\n",
        "X, y = make_classification(n_samples=1000, n_features=10, n_classes=2, random_state=42)\n",
        "\n",
        "# Split the data into training and testing sets (80% train, 20% test)\n",
        "X_train, X_test, y_train, y_test = train_test_split(X, y, test_size=0.2, random_state=42)\n",
        "\n",
        "# Create and train the Logistic Regression model\n",
        "model = LogisticRegression(max_iter=200)\n",
        "model.fit(X_train, y_train)\n",
        "\n",
        "# Predict using the test set\n",
        "y_pred = model.predict(X_test)\n",
        "\n",
        "# Calculate and print accuracy (optional, but good to see alongside other metrics)\n",
        "accuracy = accuracy_score(y_test, y_pred)\n",
        "print(f\"Logistic Regression model accuracy: {accuracy:.2f}\")\n",
        "\n",
        "# Calculate and print Precision\n",
        "# Precision is the ratio TP / (TP + FP)\n",
        "# It answers: Of all the instances predicted as positive, how many were actually positive?\n",
        "precision = precision_score(y_test, y_pred)\n",
        "print(f\"Precision: {precision:.2f}\")\n",
        "\n",
        "# Calculate and print Recall (Sensitivity)\n",
        "# Recall is the ratio TP / (TP + FN)\n",
        "# It answers: Of all the actual positive instances, how many were correctly predicted as positive?\n",
        "recall = recall_score(y_test, y_pred)\n",
        "print(f\"Recall: {recall:.2f}\")\n",
        "\n",
        "# Calculate and print F1-Score\n",
        "# The F1-score is the harmonic mean of the precision and recall\n",
        "# F1 = 2 * (Precision * Recall) / (Precision + Recall)\n",
        "# It provides a single score that balances both precision and recall.\n",
        "f1 = f1_score(y_test, y_pred)\n",
        "print(f\"F1-Score: {f1:.2f}\")\n"
      ],
      "metadata": {
        "colab": {
          "base_uri": "https://localhost:8080/"
        },
        "id": "iV_YrtKvrtvn",
        "outputId": "5e8ee811-1391-4dff-fab6-df448166ae0f"
      },
      "execution_count": 14,
      "outputs": [
        {
          "output_type": "stream",
          "name": "stdout",
          "text": [
            "Logistic Regression model accuracy: 0.83\n",
            "Precision: 0.87\n",
            "Recall: 0.82\n",
            "F1-Score: 0.84\n"
          ]
        }
      ]
    },
    {
      "cell_type": "code",
      "source": [
        "# Ques 13. Write a Python program to train a Logistic Regression model on imbalanced data and apply class weights to improve model performance.\n",
        "\n",
        "# Solution 13.\n",
        "\n",
        "import numpy as np\n",
        "from sklearn.model_selection import train_test_split\n",
        "from sklearn.linear_model import LogisticRegression\n",
        "from sklearn.metrics import classification_report, confusion_matrix\n",
        "\n",
        "# Generate some imbalanced data\n",
        "# Let's create a dataset with a significant imbalance between two classes\n",
        "np.random.seed(42)\n",
        "n_samples = 1000\n",
        "n_features = 5\n",
        "X = np.random.rand(n_samples, n_features)\n",
        "\n",
        "# Create a target variable with a large majority class (e.g., 90% class 0)\n",
        "y = np.zeros(n_samples, dtype=int)\n",
        "minority_class_size = int(0.1 * n_samples) # 10% minority class\n",
        "minority_indices = np.random.choice(n_samples, size=minority_class_size, replace=False)\n",
        "y[minority_indices] = 1\n",
        "\n",
        "print(f\"Original dataset class distribution: Class 0: {np.sum(y == 0)}, Class 1: {np.sum(y == 1)}\")\n",
        "\n",
        "# Split the data into training and testing sets\n",
        "X_train, X_test, y_train, y_test = train_test_split(X, y, test_size=0.2, random_state=42, stratify=y)\n",
        "\n",
        "print(f\"Training set class distribution: Class 0: {np.sum(y_train == 0)}, Class 1: {np.sum(y_train == 1)}\")\n",
        "print(f\"Testing set class distribution: Class 0: {np.sum(y_test == 0)}, Class 1: {np.sum(y_test == 1)}\")\n",
        "\n",
        "# 1. Train a Logistic Regression model without class weights\n",
        "print(\"\\nTraining Logistic Regression without class weights...\")\n",
        "model_no_weights = LogisticRegression(random_state=42)\n",
        "model_no_weights.fit(X_train, y_train)\n",
        "\n",
        "# Evaluate the model without weights\n",
        "y_pred_no_weights = model_no_weights.predict(X_test)\n",
        "print(\"\\nClassification Report (No Class Weights):\")\n",
        "print(classification_report(y_test, y_pred_no_weights))\n",
        "print(\"Confusion Matrix (No Class Weights):\")\n",
        "print(confusion_matrix(y_test, y_pred_no_weights))\n",
        "\n",
        "# 2. Train a Logistic Regression model with class weights\n",
        "# Use 'balanced' to automatically adjust weights inversely proportional to class frequencies\n",
        "print(\"\\nTraining Logistic Regression with 'balanced' class weights...\")\n",
        "model_with_weights = LogisticRegression(random_state=42, class_weight='balanced')\n",
        "model_with_weights.fit(X_train, y_train)\n",
        "\n",
        "# Evaluate the model with weights\n",
        "y_pred_with_weights = model_with_weights.predict(X_test)\n",
        "print(\"\\nClassification Report (With Class Weights = 'balanced'):\")\n",
        "print(classification_report(y_test, y_pred_with_weights))\n",
        "print(\"Confusion Matrix (With Class Weights = 'balanced'):\")\n",
        "print(confusion_matrix(y_test, y_pred_with_weights))\n",
        "\n"
      ],
      "metadata": {
        "colab": {
          "base_uri": "https://localhost:8080/"
        },
        "id": "ftBE_kvfr3gS",
        "outputId": "f8035dde-eb52-4dff-9bc1-c6e44fe06cb2"
      },
      "execution_count": 45,
      "outputs": [
        {
          "output_type": "stream",
          "name": "stdout",
          "text": [
            "Original dataset class distribution: Class 0: 900, Class 1: 100\n",
            "Training set class distribution: Class 0: 720, Class 1: 80\n",
            "Testing set class distribution: Class 0: 180, Class 1: 20\n",
            "\n",
            "Training Logistic Regression without class weights...\n",
            "\n",
            "Classification Report (No Class Weights):\n",
            "              precision    recall  f1-score   support\n",
            "\n",
            "           0       0.90      1.00      0.95       180\n",
            "           1       0.00      0.00      0.00        20\n",
            "\n",
            "    accuracy                           0.90       200\n",
            "   macro avg       0.45      0.50      0.47       200\n",
            "weighted avg       0.81      0.90      0.85       200\n",
            "\n",
            "Confusion Matrix (No Class Weights):\n",
            "[[180   0]\n",
            " [ 20   0]]\n",
            "\n",
            "Training Logistic Regression with 'balanced' class weights...\n",
            "\n",
            "Classification Report (With Class Weights = 'balanced'):\n",
            "              precision    recall  f1-score   support\n",
            "\n",
            "           0       0.92      0.57      0.70       180\n",
            "           1       0.12      0.55      0.20        20\n",
            "\n",
            "    accuracy                           0.56       200\n",
            "   macro avg       0.52      0.56      0.45       200\n",
            "weighted avg       0.84      0.56      0.65       200\n",
            "\n",
            "Confusion Matrix (With Class Weights = 'balanced'):\n",
            "[[102  78]\n",
            " [  9  11]]\n"
          ]
        }
      ]
    },
    {
      "cell_type": "code",
      "source": [
        "# Ques 14. Write a Python program to train Logistic Regression on the Titanic dataset, handle missing values, and evaluate performance.\n",
        "\n",
        "# Solution 14.\n",
        "\n",
        "import pandas as pd\n",
        "import seaborn as sns\n",
        "from sklearn.model_selection import train_test_split\n",
        "from sklearn.linear_model import LogisticRegression\n",
        "from sklearn.metrics import classification_report\n",
        "from sklearn.preprocessing import StandardScaler\n",
        "\n",
        "# Load Titanic dataset\n",
        "df = sns.load_dataset('titanic')\n",
        "\n",
        "# Select relevant features and target\n",
        "df = df[['survived', 'pclass', 'sex', 'age', 'sibsp', 'parch', 'fare', 'embarked']]\n",
        "\n",
        "# Handle missing values\n",
        "df.dropna(inplace=True)  # Drop rows with missing values\n",
        "\n",
        "# Encode categorical variables\n",
        "df['sex'] = df['sex'].map({'male': 0, 'female': 1})\n",
        "df = pd.get_dummies(df, columns=['embarked'], drop_first=True)\n",
        "\n",
        "# Define features and target\n",
        "X = df.drop('survived', axis=1)\n",
        "y = df['survived']\n",
        "\n",
        "# Feature scaling (optional but helps with convergence)\n",
        "scaler = StandardScaler()\n",
        "X_scaled = scaler.fit_transform(X)\n",
        "\n",
        "# Train/test split\n",
        "X_train, X_test, y_train, y_test = train_test_split(X_scaled, y, test_size=0.2, random_state=42)\n",
        "\n",
        "# Train Logistic Regression\n",
        "model = LogisticRegression(max_iter=200)\n",
        "model.fit(X_train, y_train)\n",
        "\n",
        "# Predict and evaluate\n",
        "y_pred = model.predict(X_test)\n",
        "print(\"Classification Report:\")\n",
        "print(classification_report(y_test, y_pred))"
      ],
      "metadata": {
        "colab": {
          "base_uri": "https://localhost:8080/"
        },
        "id": "Sc0d_yt8sHeJ",
        "outputId": "82ee1c92-116f-4cc3-9f93-4ec1d8295d08"
      },
      "execution_count": 21,
      "outputs": [
        {
          "output_type": "stream",
          "name": "stdout",
          "text": [
            "Classification Report:\n",
            "              precision    recall  f1-score   support\n",
            "\n",
            "           0       0.77      0.91      0.83        80\n",
            "           1       0.85      0.65      0.74        63\n",
            "\n",
            "    accuracy                           0.80       143\n",
            "   macro avg       0.81      0.78      0.79       143\n",
            "weighted avg       0.81      0.80      0.79       143\n",
            "\n"
          ]
        }
      ]
    },
    {
      "cell_type": "code",
      "source": [
        "# Ques 15. Write a Python program to apply feature scaling (Standardization) before training a Logistic Regression model. Evaluate its accuracy and compare results with and without scaling.\n",
        "\n",
        "# Solution 15.\n",
        "\n",
        "from sklearn.datasets import load_breast_cancer\n",
        "from sklearn.model_selection import train_test_split\n",
        "from sklearn.linear_model import LogisticRegression\n",
        "from sklearn.preprocessing import StandardScaler\n",
        "from sklearn.metrics import accuracy_score\n",
        "\n",
        "# Load dataset\n",
        "data = load_breast_cancer()\n",
        "X, y = data.data, data.target\n",
        "\n",
        "# Split into training and test sets\n",
        "X_train, X_test, y_train, y_test = train_test_split(X, y, test_size=0.2, random_state=42)\n",
        "\n",
        "### 1. Logistic Regression WITHOUT scaling\n",
        "model_no_scaling = LogisticRegression(max_iter=200)\n",
        "model_no_scaling.fit(X_train, y_train)\n",
        "y_pred_no_scaling = model_no_scaling.predict(X_test)\n",
        "accuracy_no_scaling = accuracy_score(y_test, y_pred_no_scaling)\n",
        "\n",
        "### 2. Logistic Regression WITH Standardization\n",
        "scaler = StandardScaler()\n",
        "X_train_scaled = scaler.fit_transform(X_train)\n",
        "X_test_scaled = scaler.transform(X_test)\n",
        "\n",
        "model_scaled = LogisticRegression(max_iter=200)\n",
        "model_scaled.fit(X_train_scaled, y_train)\n",
        "y_pred_scaled = model_scaled.predict(X_test_scaled)\n",
        "accuracy_scaled = accuracy_score(y_test, y_pred_scaled)\n",
        "\n",
        "### Results\n",
        "print(f\"Accuracy WITHOUT Scaling: {accuracy_no_scaling:.4f}\")\n",
        "print(f\"Accuracy WITH Scaling:    {accuracy_scaled:.4f}\")"
      ],
      "metadata": {
        "colab": {
          "base_uri": "https://localhost:8080/"
        },
        "id": "cI6C2Ew6vAxT",
        "outputId": "bcaae4d7-3c0b-4028-89d4-56280d8b2643"
      },
      "execution_count": 22,
      "outputs": [
        {
          "output_type": "stream",
          "name": "stdout",
          "text": [
            "Accuracy WITHOUT Scaling: 0.9561\n",
            "Accuracy WITH Scaling:    0.9737\n"
          ]
        },
        {
          "output_type": "stream",
          "name": "stderr",
          "text": [
            "/usr/local/lib/python3.11/dist-packages/sklearn/linear_model/_logistic.py:465: ConvergenceWarning: lbfgs failed to converge (status=1):\n",
            "STOP: TOTAL NO. OF ITERATIONS REACHED LIMIT.\n",
            "\n",
            "Increase the number of iterations (max_iter) or scale the data as shown in:\n",
            "    https://scikit-learn.org/stable/modules/preprocessing.html\n",
            "Please also refer to the documentation for alternative solver options:\n",
            "    https://scikit-learn.org/stable/modules/linear_model.html#logistic-regression\n",
            "  n_iter_i = _check_optimize_result(\n"
          ]
        }
      ]
    },
    {
      "cell_type": "code",
      "source": [
        "# Ques 16. Write a Python program to train Logistic Regression and evaluate its performance using ROC-AUC score\n",
        "\n",
        "# Solution 16.\n",
        "\n",
        "from sklearn.datasets import make_classification\n",
        "from sklearn.model_selection import train_test_split\n",
        "from sklearn.linear_model import LogisticRegression\n",
        "from sklearn.metrics import roc_auc_score, roc_curve\n",
        "import matplotlib.pyplot as plt\n",
        "\n",
        "# Generate a synthetic binary classification dataset\n",
        "X, y = make_classification(n_samples=1000, n_features=10, n_classes=2, random_state=42)\n",
        "\n",
        "# Split the data into training and testing sets (80% train, 20% test)\n",
        "X_train, X_test, y_train, y_test = train_test_split(X, y, test_size=0.2, random_state=42)\n",
        "\n",
        "# Create and train the Logistic Regression model\n",
        "model = LogisticRegression(max_iter=200)\n",
        "model.fit(X_train, y_train)\n",
        "\n",
        "# Predict the probability of the positive class\n",
        "# The ROC curve and AUC score require probabilities\n",
        "y_prob = model.predict_proba(X_test)[:, 1]\n",
        "\n",
        "# Calculate the ROC-AUC score\n",
        "# The ROC-AUC score is a measure of how well the model can distinguish between positive and negative classes\n",
        "auc_score = roc_auc_score(y_test, y_prob)\n",
        "print(f\"ROC-AUC Score: {auc_score:.4f}\")\n",
        "\n",
        "# Calculate the ROC curve\n",
        "# The ROC curve is a plot of the True Positive Rate (sensitivity) vs. the False Positive Rate (1 - specificity)\n",
        "# at various threshold settings.\n",
        "fpr, tpr, thresholds = roc_curve(y_test, y_prob)\n",
        "\n",
        "# Plot the ROC curve\n",
        "plt.figure(figsize=(8, 6))\n",
        "plt.plot(fpr, tpr, color='darkorange', lw=2, label=f'ROC curve (AUC = {auc_score:.4f})')\n",
        "plt.plot([0, 1], [0, 1], color='navy', lw=2, linestyle='--', label='Random Guessing')\n",
        "plt.xlabel('False Positive Rate (1 - Specificity)')\n",
        "plt.ylabel('True Positive Rate (Sensitivity)')\n",
        "plt.title('Receiver Operating Characteristic (ROC) Curve')\n",
        "plt.legend(loc=\"lower right\")\n",
        "plt.grid(True)\n",
        "plt.show()\n"
      ],
      "metadata": {
        "colab": {
          "base_uri": "https://localhost:8080/",
          "height": 581
        },
        "id": "M3-8NmRFvTI_",
        "outputId": "9f567ea6-a91b-43df-c64a-b16e3bd4dd4b"
      },
      "execution_count": 23,
      "outputs": [
        {
          "output_type": "stream",
          "name": "stdout",
          "text": [
            "ROC-AUC Score: 0.9126\n"
          ]
        },
        {
          "output_type": "display_data",
          "data": {
            "text/plain": [
              "<Figure size 800x600 with 1 Axes>"
            ],
            "image/png": "[encoded data removed]"
          },
          "metadata": {}
        }
      ]
    },
    {
      "cell_type": "code",
      "source": [
        "# Ques 17. Write a Python program to train Logistic Regression using a custom learning rate (C=0.5) and evaluate accuracy.\n",
        "\n",
        "# Solution 17.\n",
        "\n",
        "from sklearn.datasets import load_iris\n",
        "from sklearn.model_selection import train_test_split\n",
        "from sklearn.linear_model import LogisticRegression\n",
        "from sklearn.metrics import accuracy_score\n",
        "\n",
        "# Load the dataset (using Iris as an example)\n",
        "iris = load_iris()\n",
        "X = iris.data  # Features\n",
        "y = iris.target  # Labels\n",
        "\n",
        "# Split the data into training and testing sets (80% train, 20% test)\n",
        "X_train, X_test, y_train, y_test = train_test_split(X, y, test_size=0.2, random_state=42)\n",
        "\n",
        "# Create and train the Logistic Regression model with a custom C value\n",
        "# C=0.5 means moderate regularization (since it's the inverse of regularization strength)\n",
        "model = LogisticRegression(C=0.5, max_iter=200)\n",
        "model.fit(X_train, y_train)\n",
        "\n",
        "# Predict using the test set\n",
        "y_pred = model.predict(X_test)\n",
        "\n",
        "# Calculate and print the accuracy\n",
        "accuracy = accuracy_score(y_test, y_pred)\n",
        "print(f\"Logistic Regression model accuracy with C=0.5: {accuracy:.2f}\")\n"
      ],
      "metadata": {
        "colab": {
          "base_uri": "https://localhost:8080/"
        },
        "id": "a5gyodelvlAv",
        "outputId": "e4c8d324-811d-4770-8821-ff9d6b5d67ea"
      },
      "execution_count": 24,
      "outputs": [
        {
          "output_type": "stream",
          "name": "stdout",
          "text": [
            "Logistic Regression model accuracy with C=0.5: 1.00\n"
          ]
        }
      ]
    },
    {
      "cell_type": "code",
      "source": [
        "# Ques 18. Write a Python program to train Logistic Regression and identify important features based on model coefficients.\n",
        "\n",
        "# Solution 18.\n",
        "\n",
        "import pandas as pd\n",
        "from sklearn.model_selection import train_test_split\n",
        "from sklearn.linear_model import LogisticRegression\n",
        "from sklearn.datasets import load_breast_cancer # Example dataset\n",
        "\n",
        "# 1. Load and prepare data\n",
        "# For demonstration, using the Breast Cancer dataset built into scikit-learn\n",
        "data = load_breast_cancer()\n",
        "X = pd.DataFrame(data.data, columns=data.feature_names)\n",
        "y = data.target\n",
        "\n",
        "# 2. Split data into training and testing sets\n",
        "X_train, X_test, y_train, y_test = train_test_split(X, y, test_size=0.2, random_state=42)\n",
        "\n",
        "# 3. Train the Logistic Regression model\n",
        "# Using 'liblinear' solver for smaller datasets and L1/L2 regularization\n",
        "model = LogisticRegression(solver='liblinear', random_state=42, max_iter=1000)\n",
        "model.fit(X_train, y_train)\n",
        "\n",
        "# 4. Identify important features based on coefficients\n",
        "# Coefficients represent the log-odds change for a one-unit increase in the feature\n",
        "# Higher absolute values indicate greater importance\n",
        "feature_importance = pd.DataFrame({\n",
        "    'Feature': X.columns,\n",
        "    'Coefficient': model.coef_[0] # For binary classification, there's one set of coefficients\n",
        "})\n",
        "\n",
        "# Sort by absolute coefficient value to see the most impactful features\n",
        "feature_importance['Abs_Coefficient'] = abs(feature_importance['Coefficient'])\n",
        "feature_importance = feature_importance.sort_values(by='Abs_Coefficient', ascending=False)\n",
        "\n",
        "print(\"Feature Importance based on Logistic Regression Coefficients:\")\n",
        "print(feature_importance)\n",
        "\n",
        "# Optional: Evaluate model performance\n",
        "accuracy = model.score(X_test, y_test)\n",
        "print(f\"\\nModel Accuracy on Test Set: {accuracy:.4f}\")\n"
      ],
      "metadata": {
        "colab": {
          "base_uri": "https://localhost:8080/"
        },
        "id": "ZRoOaZIzv2sp",
        "outputId": "31a563b9-ca42-496b-83cf-142706f47b59"
      },
      "execution_count": 52,
      "outputs": [
        {
          "output_type": "stream",
          "name": "stdout",
          "text": [
            "Feature Importance based on Logistic Regression Coefficients:\n",
            "                    Feature  Coefficient  Abs_Coefficient\n",
            "0               mean radius     2.132484         2.132484\n",
            "26          worst concavity    -1.617969         1.617969\n",
            "11            texture error     1.442984         1.442984\n",
            "20             worst radius     1.232150         1.232150\n",
            "25        worst compactness    -1.208985         1.208985\n",
            "28           worst symmetry    -0.742764         0.742764\n",
            "6            mean concavity    -0.651940         0.651940\n",
            "27     worst concave points    -0.615251         0.615251\n",
            "5          mean compactness    -0.415569         0.415569\n",
            "21            worst texture    -0.404581         0.404581\n",
            "7       mean concave points    -0.344456         0.344456\n",
            "12          perimeter error    -0.303857         0.303857\n",
            "24         worst smoothness    -0.262631         0.262631\n",
            "8             mean symmetry    -0.207613         0.207613\n",
            "1              mean texture     0.152772         0.152772\n",
            "2            mean perimeter    -0.145091         0.145091\n",
            "4           mean smoothness    -0.142636         0.142636\n",
            "29  worst fractal dimension    -0.116960         0.116960\n",
            "13               area error    -0.072569         0.072569\n",
            "10             radius error    -0.050034         0.050034\n",
            "16          concavity error    -0.044886         0.044886\n",
            "18           symmetry error    -0.041752         0.041752\n",
            "17     concave points error    -0.037719         0.037719\n",
            "22          worst perimeter    -0.036209         0.036209\n",
            "9    mean fractal dimension    -0.029774         0.029774\n",
            "23               worst area    -0.027087         0.027087\n",
            "14         smoothness error    -0.016159         0.016159\n",
            "19  fractal dimension error     0.005613         0.005613\n",
            "15        compactness error    -0.001907         0.001907\n",
            "3                 mean area    -0.000829         0.000829\n",
            "\n",
            "Model Accuracy on Test Set: 0.9561\n"
          ]
        }
      ]
    },
    {
      "cell_type": "code",
      "source": [
        "# Ques 19. Write a Python program to train Logistic Regression and evaluate its performance using Cohen’s Kappa Score.\n",
        "\n",
        "# Solution 19.\n",
        "\n",
        "from sklearn.datasets import make_classification\n",
        "from sklearn.model_selection import train_test_split\n",
        "from sklearn.linear_model import LogisticRegression\n",
        "from sklearn.metrics import cohen_kappa_score, accuracy_score\n",
        "\n",
        "# Generate a synthetic binary classification dataset\n",
        "X, y = make_classification(n_samples=1000, n_features=10, n_classes=2, random_state=42)\n",
        "\n",
        "# Split the data into training and testing sets (80% train, 20% test)\n",
        "X_train, X_test, y_train, y_test = train_test_split(X, y, test_size=0.2, random_state=42)\n",
        "\n",
        "# Create and train the Logistic Regression model\n",
        "model = LogisticRegression(max_iter=200)\n",
        "model.fit(X_train, y_train)\n",
        "\n",
        "# Predict using the test set\n",
        "y_pred = model.predict(X_test)\n",
        "\n",
        "# Calculate and print accuracy (optional, but useful for comparison)\n",
        "accuracy = accuracy_score(y_test, y_pred)\n",
        "print(f\"Logistic Regression model accuracy: {accuracy:.4f}\")\n",
        "\n",
        "# Calculate Cohen's Kappa Score\n",
        "# Cohen's kappa measures the agreement between two annotators (in this case,\n",
        "# the true labels and the model's predictions). It corrects for the agreement\n",
        "# that would occur by chance.\n",
        "# A score of 1 indicates perfect agreement, 0 indicates agreement equivalent to\n",
        "# random chance, and negative scores indicate agreement worse than random chance.\n",
        "kappa = cohen_kappa_score(y_test, y_pred)\n",
        "print(f\"Cohen's Kappa Score: {kappa:.4f}\")\n",
        "\n"
      ],
      "metadata": {
        "colab": {
          "base_uri": "https://localhost:8080/"
        },
        "id": "geF0zH3NwVnd",
        "outputId": "72431332-a5f1-4ec8-d218-f9f69949c8f9"
      },
      "execution_count": 27,
      "outputs": [
        {
          "output_type": "stream",
          "name": "stdout",
          "text": [
            "Logistic Regression model accuracy: 0.8300\n",
            "Cohen's Kappa Score: 0.6581\n"
          ]
        }
      ]
    },
    {
      "cell_type": "code",
      "source": [
        "# Ques 20. Write a Python program to train Logistic Regression and visualize the Precision-Recall Curve for binary classificatio.\n",
        "\n",
        "# Solution 20.\n",
        "\n",
        "from sklearn.datasets import make_classification\n",
        "from sklearn.model_selection import train_test_split\n",
        "from sklearn.linear_model import LogisticRegression\n",
        "from sklearn.metrics import precision_recall_curve, auc\n",
        "import matplotlib.pyplot as plt\n",
        "\n",
        "# Generate a synthetic binary classification dataset\n",
        "X, y = make_classification(n_samples=1000, n_features=10, n_classes=2, random_state=42)\n",
        "\n",
        "# Split the data into training and testing sets (80% train, 20% test)\n",
        "X_train, X_test, y_train, y_test = train_test_split(X, y, test_size=0.2, random_state=42)\n",
        "\n",
        "# Create and train the Logistic Regression model\n",
        "model = LogisticRegression(max_iter=200)\n",
        "model.fit(X_train, y_train)\n",
        "\n",
        "# Predict the probability of the positive class\n",
        "# The Precision-Recall curve requires probabilities\n",
        "y_prob = model.predict_proba(X_test)[:, 1]\n",
        "\n",
        "# Calculate precision, recall, and thresholds\n",
        "precision, recall, thresholds = precision_recall_curve(y_test, y_prob)\n",
        "\n",
        "# Calculate the Area Under the Precision-Recall Curve (AUPRC)\n",
        "auprc = auc(recall, precision)\n",
        "print(f\"Area Under the Precision-Recall Curve (AUPRC): {auprc:.4f}\")\n",
        "\n",
        "# Plot the Precision-Recall curve\n",
        "plt.figure(figsize=(8, 6))\n",
        "plt.plot(recall, precision, color='darkorange', lw=2, label=f'PR curve (AUPRC = {auprc:.4f})')\n",
        "plt.xlabel('Recall (Sensitivity)')\n",
        "plt.ylabel('Precision')\n",
        "plt.title('Precision-Recall Curve')\n",
        "plt.legend(loc=\"lower left\")\n",
        "plt.grid(True)\n",
        "plt.show()\n"
      ],
      "metadata": {
        "colab": {
          "base_uri": "https://localhost:8080/",
          "height": 581
        },
        "id": "OC_iEx8JwmSm",
        "outputId": "0dea7208-1c1e-4704-95df-21f25f61ad27"
      },
      "execution_count": 28,
      "outputs": [
        {
          "output_type": "stream",
          "name": "stdout",
          "text": [
            "Area Under the Precision-Recall Curve (AUPRC): 0.9363\n"
          ]
        },
        {
          "output_type": "display_data",
          "data": {
            "text/plain": [
              "<Figure size 800x600 with 1 Axes>"
            ],
            "image/png": "[encoded data removed]"
          },
          "metadata": {}
        }
      ]
    },
    {
      "cell_type": "code",
      "source": [
        "# Ques 21. Write a Python program to train Logistic Regression with different solvers (liblinear, saga, lbfgs) and compare their accuracy.\n",
        "\n",
        "# Solution 21.\n",
        "\n",
        "from sklearn.datasets import load_iris\n",
        "from sklearn.model_selection import train_test_split\n",
        "from sklearn.linear_model import LogisticRegression\n",
        "from sklearn.metrics import accuracy_score\n",
        "import time\n",
        "\n",
        "# Load the dataset (using Iris as an example)\n",
        "iris = load_iris()\n",
        "X = iris.data  # Features\n",
        "y = iris.target  # Labels\n",
        "\n",
        "# Split the data into training and testing sets (80% train, 20% test)\n",
        "X_train, X_test, y_train, y_test = train_test_split(X, y, test_size=0.2, random_state=42)\n",
        "\n",
        "# Define the list of solvers to compare\n",
        "solvers_to_compare = ['liblinear', 'lbfgs', 'saga']\n",
        "\n",
        "# Dictionary to store accuracies for each solver\n",
        "solver_accuracies = {}\n",
        "\n",
        "print(\"Comparing Logistic Regression Solvers:\")\n",
        "\n",
        "for solver in solvers_to_compare:\n",
        "    try:\n",
        "        print(f\"\\nTraining with solver: {solver}\")\n",
        "        start_time = time.time()\n",
        "\n",
        "        # Create and train the Logistic Regression model with the current solver\n",
        "        # Adjust max_iter if necessary, especially for 'saga' and 'lbfgs' on larger datasets\n",
        "        # 'liblinear' only supports 'l1' and 'l2' penalties.\n",
        "        # 'lbfgs', 'saga' support 'l2' and 'none'.\n",
        "        # 'saga' also supports 'l1' and 'elasticnet'.\n",
        "        # Ensure the penalty is compatible with the solver. We'll stick to default 'l2' for simplicity.\n",
        "        if solver == 'liblinear':\n",
        "            # liblinear is generally good for small datasets and binary classification\n",
        "            model = LogisticRegression(solver=solver, penalty='l2', max_iter=200)\n",
        "        else:\n",
        "            # lbfgs and saga are generally better for larger datasets and multiclass\n",
        "            model = LogisticRegression(solver=solver, penalty='l2', max_iter=1000) # Increased max_iter\n",
        "\n",
        "        model.fit(X_train, y_train)\n",
        "\n",
        "        # Predict using the test set\n",
        "        y_pred = model.predict(X_test)\n",
        "\n",
        "        # Calculate and print the accuracy\n",
        "        accuracy = accuracy_score(y_test, y_pred)\n",
        "        end_time = time.time()\n",
        "        training_time = end_time - start_time\n",
        "\n",
        "        solver_accuracies[solver] = accuracy\n",
        "        print(f\"  Accuracy: {accuracy:.4f}\")\n",
        "        print(f\"  Training Time: {training_time:.4f} seconds\")\n",
        "\n",
        "    except ValueError as e:\n",
        "        print(f\"  Could not train with solver {solver}: {e}\")\n",
        "    except Exception as e:\n",
        "        print(f\"  An error occurred with solver {solver}: {e}\")\n",
        "\n",
        "print(\"\\n--- Comparison Summary ---\")\n",
        "for solver, accuracy in solver_accuracies.items():\n",
        "    print(f\"Solver '{solver}': Accuracy = {accuracy:.4f}\")\n",
        "\n",
        "# Optional: Find the best performing solver\n",
        "if solver_accuracies:\n",
        "    best_solver = max(solver_accuracies, key=solver_accuracies.get)\n",
        "    print(f\"\\nBest performing solver based on accuracy: '{best_solver}'\")"
      ],
      "metadata": {
        "colab": {
          "base_uri": "https://localhost:8080/"
        },
        "id": "6HKGl1EqxbGj",
        "outputId": "3448ed66-4cd9-4259-bb24-b6476ce14098"
      },
      "execution_count": 30,
      "outputs": [
        {
          "output_type": "stream",
          "name": "stdout",
          "text": [
            "Comparing Logistic Regression Solvers:\n",
            "\n",
            "Training with solver: liblinear\n",
            "  Accuracy: 1.0000\n",
            "  Training Time: 0.0045 seconds\n",
            "\n",
            "Training with solver: lbfgs\n",
            "  Accuracy: 1.0000\n",
            "  Training Time: 0.0174 seconds\n",
            "\n",
            "Training with solver: saga\n",
            "  Accuracy: 1.0000\n",
            "  Training Time: 0.0533 seconds\n",
            "\n",
            "--- Comparison Summary ---\n",
            "Solver 'liblinear': Accuracy = 1.0000\n",
            "Solver 'lbfgs': Accuracy = 1.0000\n",
            "Solver 'saga': Accuracy = 1.0000\n",
            "\n",
            "Best performing solver based on accuracy: 'liblinear'\n"
          ]
        },
        {
          "output_type": "stream",
          "name": "stderr",
          "text": [
            "/usr/local/lib/python3.11/dist-packages/sklearn/linear_model/_sag.py:348: ConvergenceWarning: The max_iter was reached which means the coef_ did not converge\n",
            "  warnings.warn(\n"
          ]
        }
      ]
    },
    {
      "cell_type": "code",
      "source": [
        "# Ques 22. Write a Python program to train Logistic Regression and evaluate its performance using Matthews Correlation Coefficient (MCC).\n",
        "\n",
        "# Solution 22.\n",
        "\n",
        "from sklearn.datasets import make_classification\n",
        "from sklearn.model_selection import train_test_split\n",
        "from sklearn.linear_model import LogisticRegression\n",
        "from sklearn.metrics import matthews_corrcoef, accuracy_score\n",
        "\n",
        "# Generate a synthetic binary classification dataset\n",
        "X, y = make_classification(n_samples=1000, n_features=10, n_classes=2, random_state=42)\n",
        "\n",
        "# Split the data into training and testing sets (80% train, 20% test)\n",
        "X_train, X_test, y_train, y_test = train_test_split(X, y, test_size=0.2, random_state=42)\n",
        "\n",
        "# Create and train the Logistic Regression model\n",
        "model = LogisticRegression(max_iter=200)\n",
        "model.fit(X_train, y_train)\n",
        "\n",
        "# Predict using the test set\n",
        "y_pred = model.predict(X_test)\n",
        "\n",
        "# Calculate and print accuracy (optional, but useful for comparison)\n",
        "accuracy = accuracy_score(y_test, y_pred)\n",
        "print(f\"Logistic Regression model accuracy: {accuracy:.4f}\")\n",
        "\n",
        "# Calculate Matthews Correlation Coefficient (MCC)\n",
        "# MCC is a single score that summarizes the confusion matrix.\n",
        "# It takes into account true positives, true negatives, false positives, and false negatives.\n",
        "# A score of +1 represents a perfect prediction, 0 an average random prediction,\n",
        "# and -1 a perfect inverse prediction. MCC is generally considered a balanced\n",
        "# measure that can be used even if the classes are of very different sizes.\n",
        "mcc = matthews_corrcoef(y_test, y_pred)\n",
        "print(f\"Matthews Correlation Coefficient (MCC): {mcc:.4f}\")\n"
      ],
      "metadata": {
        "colab": {
          "base_uri": "https://localhost:8080/"
        },
        "id": "NYpygrHuxzs7",
        "outputId": "5d39b671-18bc-421c-d31b-60012aaafb0d"
      },
      "execution_count": 31,
      "outputs": [
        {
          "output_type": "stream",
          "name": "stdout",
          "text": [
            "Logistic Regression model accuracy: 0.8300\n",
            "Matthews Correlation Coefficient (MCC): 0.6593\n"
          ]
        }
      ]
    },
    {
      "cell_type": "code",
      "source": [
        "# Ques 23. Write a Python program to train Logistic Regression on both raw and standardized data. Compare their accuracy to see the impact of feature scaling.\n",
        "\n",
        "# Solution 23.\n",
        "\n",
        "from sklearn.datasets import load_breast_cancer\n",
        "from sklearn.model_selection import train_test_split\n",
        "from sklearn.linear_model import LogisticRegression\n",
        "from sklearn.preprocessing import StandardScaler\n",
        "from sklearn.metrics import accuracy_score\n",
        "\n",
        "# Load dataset\n",
        "data = load_breast_cancer()\n",
        "X, y = data.data, data.target\n",
        "\n",
        "# Split into training and test sets\n",
        "X_train, X_test, y_train, y_test = train_test_split(X, y, test_size=0.2, random_state=42)\n",
        "\n",
        "### 1. Logistic Regression WITHOUT scaling\n",
        "print(\"--- Training without Feature Scaling ---\")\n",
        "model_no_scaling = LogisticRegression(max_iter=200)\n",
        "model_no_scaling.fit(X_train, y_train)\n",
        "y_pred_no_scaling = model_no_scaling.predict(X_test)\n",
        "accuracy_no_scaling = accuracy_score(y_test, y_pred_no_scaling)\n",
        "print(f\"Accuracy WITHOUT Scaling: {accuracy_no_scaling:.4f}\")\n",
        "\n",
        "### 2. Logistic Regression WITH Standardization\n",
        "print(\"\\n--- Training with Standardization ---\")\n",
        "# Create a StandardScaler instance\n",
        "scaler = StandardScaler()\n",
        "\n",
        "# Fit the scaler on the training data and transform both training and test data\n",
        "X_train_scaled = scaler.fit_transform(X_train)\n",
        "X_test_scaled = scaler.transform(X_test)\n",
        "\n",
        "# Create and train Logistic Regression model on scaled data\n",
        "model_scaled = LogisticRegression(max_iter=200)\n",
        "model_scaled.fit(X_train_scaled, y_train)\n",
        "y_pred_scaled = model_scaled.predict(X_test_scaled)\n",
        "accuracy_scaled = accuracy_score(y_test, y_pred_scaled)\n",
        "print(f\"Accuracy WITH Scaling:    {accuracy_scaled:.4f}\")\n",
        "\n",
        "### Comparison\n",
        "print(\"\\n--- Comparison ---\")\n",
        "print(f\"Accuracy difference (Scaled - No Scaling): {accuracy_scaled - accuracy_no_scaling:.4f}\")"
      ],
      "metadata": {
        "colab": {
          "base_uri": "https://localhost:8080/"
        },
        "id": "dGzyCA_Rx-Cv",
        "outputId": "a2532eb1-75c0-478c-ad92-7b3e8df14b5d"
      },
      "execution_count": 32,
      "outputs": [
        {
          "output_type": "stream",
          "name": "stdout",
          "text": [
            "--- Training without Feature Scaling ---\n",
            "Accuracy WITHOUT Scaling: 0.9561\n",
            "\n",
            "--- Training with Standardization ---\n",
            "Accuracy WITH Scaling:    0.9737\n",
            "\n",
            "--- Comparison ---\n",
            "Accuracy difference (Scaled - No Scaling): 0.0175\n"
          ]
        },
        {
          "output_type": "stream",
          "name": "stderr",
          "text": [
            "/usr/local/lib/python3.11/dist-packages/sklearn/linear_model/_logistic.py:465: ConvergenceWarning: lbfgs failed to converge (status=1):\n",
            "STOP: TOTAL NO. OF ITERATIONS REACHED LIMIT.\n",
            "\n",
            "Increase the number of iterations (max_iter) or scale the data as shown in:\n",
            "    https://scikit-learn.org/stable/modules/preprocessing.html\n",
            "Please also refer to the documentation for alternative solver options:\n",
            "    https://scikit-learn.org/stable/modules/linear_model.html#logistic-regression\n",
            "  n_iter_i = _check_optimize_result(\n"
          ]
        }
      ]
    },
    {
      "cell_type": "code",
      "source": [
        "# Ques 24. Write a Python program to train Logistic Regression and find the optimal C (regularization strength) using cross-validation.\n",
        "\n",
        "# Solution 24.\n",
        "\n",
        "from sklearn.datasets import load_iris\n",
        "from sklearn.model_selection import train_test_split, GridSearchCV\n",
        "from sklearn.linear_model import LogisticRegression\n",
        "\n",
        "# Load the dataset (using Iris as an example)\n",
        "iris = load_iris()\n",
        "X = iris.data  # Features\n",
        "y = iris.target  # Labels\n",
        "\n",
        "# Split the data into training and validation sets (adjust split ratio as needed)\n",
        "# We split initially to keep a separate test set if needed, but for finding optimal C\n",
        "# we'll use cross-validation *on the training set*.\n",
        "X_train, X_val, y_train, y_val = train_test_split(X, y, test_size=0.2, random_state=42)\n",
        "\n",
        "# Define the range of C values to test\n",
        "# C is the inverse of regularization strength. Smaller C means stronger regularization.\n",
        "param_grid = {'C': [0.001, 0.01, 0.1, 1, 10, 100, 1000]}\n",
        "\n",
        "# Create a Logistic Regression model instance\n",
        "# Use a solver that is generally robust, like 'liblinear' for smaller datasets or 'lbfgs'/'saga'\n",
        "# For GridSearchCV with a range of C, 'liblinear' or 'lbfgs' are common choices.\n",
        "# 'lbfgs' is the default and works well for many cases.\n",
        "logreg = LogisticRegression(max_iter=200) # Increased max_iter for convergence\n",
        "\n",
        "# Create a GridSearchCV object\n",
        "# This will systematically search through the param_grid using cross-validation\n",
        "# cv=5 means 5-fold cross-validation on the training data\n",
        "# scoring='accuracy' is the metric to evaluate the models\n",
        "grid_search = GridSearchCV(logreg, param_grid, cv=5, scoring='accuracy')\n",
        "\n",
        "# Fit the GridSearchCV to the training data\n",
        "# GridSearchCV will train the model multiple times with different C values\n",
        "# and different cross-validation folds\n",
        "grid_search.fit(X_train, y_train)\n",
        "\n",
        "# Print the best C value found by GridSearchCV\n",
        "print(\"Best C value found by GridSearchCV:\")\n",
        "print(grid_search.best_params_['C'])\n",
        "\n",
        "# Print the best cross-validation score achieved with the best C\n",
        "print(f\"Best cross-validation accuracy: {grid_search.best_score_:.4f}\")\n",
        "\n",
        "# Optional: Get the best model trained during the grid search\n",
        "# You can then evaluate this best model on the separate validation set (X_val, y_val)\n",
        "# if you kept one.\n",
        "# best_model = grid_search.best_estimator_\n",
        "# validation_accuracy = best_model.score(X_val, y_val)\n",
        "# print(f\"Accuracy of the best model on the validation set: {validation_accuracy:.4f}\")"
      ],
      "metadata": {
        "colab": {
          "base_uri": "https://localhost:8080/"
        },
        "id": "d458B0gKyK0W",
        "outputId": "ac9a7779-5ada-4fa7-f969-e8bd0f92c7f7"
      },
      "execution_count": 33,
      "outputs": [
        {
          "output_type": "stream",
          "name": "stdout",
          "text": [
            "Best C value found by GridSearchCV:\n",
            "1\n",
            "Best cross-validation accuracy: 0.9667\n"
          ]
        }
      ]
    },
    {
      "cell_type": "code",
      "source": [
        "# Ques 25. Write a Python program to train Logistic Regression, save the trained model using joblib, and load it again to make predictions.\n",
        "\n",
        "# Solution 25.\n",
        "\n",
        "from sklearn.datasets import load_iris\n",
        "from sklearn.model_selection import train_test_split\n",
        "from sklearn.linear_model import LogisticRegression\n",
        "from sklearn.metrics import accuracy_score\n",
        "import joblib  # Import joblib for saving and loading models\n",
        "import os      # Import os for checking file existence\n",
        "\n",
        "# --- 1. Train the Logistic Regression Model ---\n",
        "\n",
        "# Load the dataset (using Iris as an example)\n",
        "iris = load_iris()\n",
        "X = iris.data  # Features\n",
        "y = iris.target  # Labels\n",
        "\n",
        "# Split the data into training and testing sets (80% train, 20% test)\n",
        "X_train, X_test, y_train, y_test = train_test_split(X, y, test_size=0.2, random_state=42)\n",
        "\n",
        "# Create and train the Logistic Regression model\n",
        "model = LogisticRegression(max_iter=200)\n",
        "model.fit(X_train, y_train)\n",
        "\n",
        "# Evaluate the model (optional)\n",
        "accuracy_trained = accuracy_score(y_test, model.predict(X_test))\n",
        "print(f\"Accuracy of the freshly trained model: {accuracy_trained:.4f}\")\n",
        "\n",
        "# --- 2. Save the Trained Model using joblib ---\n",
        "\n",
        "# Define the filename for the saved model\n",
        "model_filename = 'logistic_regression_model.joblib'\n",
        "\n",
        "# Save the model to the file\n",
        "joblib.dump(model, model_filename)\n",
        "\n",
        "print(f\"\\nTrained model saved to '{model_filename}'\")\n",
        "\n",
        "# --- 3. Load the Saved Model and Make Predictions ---\n",
        "\n",
        "# Check if the model file exists before loading\n",
        "if os.path.exists(model_filename):\n",
        "    print(f\"\\nLoading model from '{model_filename}'...\")\n",
        "\n",
        "    # Load the model from the file\n",
        "    loaded_model = joblib.load(model_filename)\n",
        "\n",
        "    print(\"Model loaded successfully.\")\n",
        "\n",
        "    # Make predictions using the loaded model\n",
        "    y_pred_loaded = loaded_model.predict(X_test)\n",
        "\n",
        "    # Evaluate the loaded"
      ],
      "metadata": {
        "colab": {
          "base_uri": "https://localhost:8080/"
        },
        "id": "OIT1RHR_zCfO",
        "outputId": "e9884d01-4159-4c4a-de53-cce2971f60a3"
      },
      "execution_count": 34,
      "outputs": [
        {
          "output_type": "stream",
          "name": "stdout",
          "text": [
            "Accuracy of the freshly trained model: 1.0000\n",
            "\n",
            "Trained model saved to 'logistic_regression_model.joblib'\n",
            "\n",
            "Loading model from 'logistic_regression_model.joblib'...\n",
            "Model loaded successfully.\n"
          ]
        }
      ]
    }
  ]
}